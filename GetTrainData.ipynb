{
 "cells": [
  {
   "cell_type": "code",
   "execution_count": 3,
   "id": "a9f928b4-228d-47c6-91a8-ba955f75e680",
   "metadata": {},
   "outputs": [],
   "source": [
    "from ebirdtools import EBirdTools\n",
    "ebt = EBirdTools('ebird_api.key')"
   ]
  },
  {
   "cell_type": "code",
   "execution_count": 5,
   "id": "0bc98a7d-b2c4-4dc7-bcba-98f65cc98799",
   "metadata": {},
   "outputs": [],
   "source": [
    "OTHER_PARAMS = {\n",
    "    'back': 30,\n",
    "    'dist': 50\n",
    "}"
   ]
  },
  {
   "cell_type": "code",
   "execution_count": 7,
   "id": "553bd917-6aa0-4b6e-8c28-63573b14ee85",
   "metadata": {},
   "outputs": [
    {
     "name": "stdout",
     "output_type": "stream",
     "text": [
      "Species found: 244\n"
     ]
    },
    {
     "name": "stderr",
     "output_type": "stream",
     "text": [
      "100%|████████████████████████████████████████████████████████████████████████████████| 244/244 [04:45<00:00,  1.17s/it]\n"
     ]
    },
    {
     "name": "stdout",
     "output_type": "stream",
     "text": [
      "Data saved to: data\\ebd_2025-08-20-20-26-00_37.33_-121.86_30_50.csv\n"
     ]
    }
   ],
   "source": [
    "# San Jose: 37.33 N, 121.86 W\n",
    "_ = ebt.get_data(lat=37.33, lng=-121.86, **OTHER_PARAMS, verbose=True)"
   ]
  },
  {
   "cell_type": "code",
   "execution_count": 12,
   "id": "e872f090-87ea-451e-a6d8-9721d2ad2775",
   "metadata": {},
   "outputs": [
    {
     "name": "stdout",
     "output_type": "stream",
     "text": [
      "Species found: 172\n"
     ]
    },
    {
     "name": "stderr",
     "output_type": "stream",
     "text": [
      "100%|████████████████████████████████████████████████████████████████████████████████| 172/172 [02:39<00:00,  1.08it/s]"
     ]
    },
    {
     "name": "stdout",
     "output_type": "stream",
     "text": [
      "Data saved to: data\\ebd_2025-08-20-20-31-45_25.75_-80.56_30_50.csv\n"
     ]
    },
    {
     "name": "stderr",
     "output_type": "stream",
     "text": [
      "\n"
     ]
    }
   ],
   "source": [
    "# Everglades: 25.75 N, 80.56 W\n",
    "_ = ebt.get_data(lat=25.75, lng=-80.56, **OTHER_PARAMS, verbose=True)"
   ]
  },
  {
   "cell_type": "code",
   "execution_count": 14,
   "id": "f31007f4-042c-4c19-a811-21f6603da92c",
   "metadata": {},
   "outputs": [
    {
     "name": "stdout",
     "output_type": "stream",
     "text": [
      "Species found: 210\n"
     ]
    },
    {
     "name": "stderr",
     "output_type": "stream",
     "text": [
      "100%|████████████████████████████████████████████████████████████████████████████████| 210/210 [03:56<00:00,  1.13s/it]\n"
     ]
    },
    {
     "name": "stdout",
     "output_type": "stream",
     "text": [
      "Data saved to: data\\ebd_2025-08-20-20-35-54_41.88_-87.63_30_50.csv\n"
     ]
    }
   ],
   "source": [
    "# Chicago: 41.88 N, 87.63 W\n",
    "_ = ebt.get_data(lat=41.88, lng=-87.63, **OTHER_PARAMS, verbose=True)"
   ]
  },
  {
   "cell_type": "code",
   "execution_count": 15,
   "id": "40dabf07-4b82-4742-8c26-820f8baf4959",
   "metadata": {},
   "outputs": [
    {
     "name": "stdout",
     "output_type": "stream",
     "text": [
      "Species found: 275\n"
     ]
    },
    {
     "name": "stderr",
     "output_type": "stream",
     "text": [
      "100%|████████████████████████████████████████████████████████████████████████████████| 275/275 [04:58<00:00,  1.08s/it]\n"
     ]
    },
    {
     "name": "stdout",
     "output_type": "stream",
     "text": [
      "Data saved to: data\\ebd_2025-08-20-20-40-54_34.05_-118.24_30_50.csv\n"
     ]
    }
   ],
   "source": [
    "# Los Angeles: 34.05 N, 118.24 W\n",
    "_ = ebt.get_data(lat=34.05, lng=-118.24, **OTHER_PARAMS, verbose=True)"
   ]
  },
  {
   "cell_type": "code",
   "execution_count": 16,
   "id": "7348ae37-dbd2-4dfd-9a64-7d7131eb6b56",
   "metadata": {},
   "outputs": [
    {
     "name": "stdout",
     "output_type": "stream",
     "text": [
      "Species found: 202\n"
     ]
    },
    {
     "name": "stderr",
     "output_type": "stream",
     "text": [
      "100%|████████████████████████████████████████████████████████████████████████████████| 202/202 [03:53<00:00,  1.16s/it]\n"
     ]
    },
    {
     "name": "stdout",
     "output_type": "stream",
     "text": [
      "Data saved to: data\\ebd_2025-08-20-20-44-54_47.61_-122.33_30_50.csv\n"
     ]
    }
   ],
   "source": [
    "# Seattle: 47.61 N, 122.33 W\n",
    "_ = ebt.get_data(lat=47.61, lng=-122.33, **OTHER_PARAMS, verbose=True)"
   ]
  },
  {
   "cell_type": "code",
   "execution_count": null,
   "id": "926c0411-cd62-44f8-818d-62ff69d3c07f",
   "metadata": {},
   "outputs": [],
   "source": []
  }
 ],
 "metadata": {
  "kernelspec": {
   "display_name": "Python 3 (ipykernel)",
   "language": "python",
   "name": "python3"
  },
  "language_info": {
   "codemirror_mode": {
    "name": "ipython",
    "version": 3
   },
   "file_extension": ".py",
   "mimetype": "text/x-python",
   "name": "python",
   "nbconvert_exporter": "python",
   "pygments_lexer": "ipython3",
   "version": "3.11.5"
  }
 },
 "nbformat": 4,
 "nbformat_minor": 5
}
