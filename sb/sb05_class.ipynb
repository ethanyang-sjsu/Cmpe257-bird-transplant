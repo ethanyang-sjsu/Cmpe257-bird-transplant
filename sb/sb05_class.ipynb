{
 "cells": [
  {
   "cell_type": "code",
   "execution_count": 1,
   "id": "ee226e4e-9783-4f57-8f23-daacdb427a60",
   "metadata": {},
   "outputs": [],
   "source": [
    "# Hacky way to import from parent directory\n",
    "# https://www.reddit.com/r/learnpython/comments/x6nibz/comment/in7rxzu/?utm_source=share&utm_medium=web3x&utm_name=web3xcss&utm_term=1&utm_content=share_button\n",
    "import sys\n",
    "sys.path.append('..')"
   ]
  },
  {
   "cell_type": "code",
   "execution_count": 3,
   "id": "ca348537-3102-4d3a-bcca-75e02dcddbc4",
   "metadata": {},
   "outputs": [],
   "source": [
    "from ebirdtools import EBirdTools\n",
    "ebt = EBirdTools('../ebird_api.key')"
   ]
  },
  {
   "cell_type": "code",
   "execution_count": 11,
   "id": "468f8524-c79a-40b3-9fc7-1dae93b6fb34",
   "metadata": {},
   "outputs": [
    {
     "name": "stdout",
     "output_type": "stream",
     "text": [
      "Species found: 36\n"
     ]
    },
    {
     "name": "stderr",
     "output_type": "stream",
     "text": [
      "100%|██████████████████████████████████████████████████████████████████████████████████| 36/36 [00:31<00:00,  1.13it/s]"
     ]
    },
    {
     "name": "stdout",
     "output_type": "stream",
     "text": [
      "Data saved to: data\\ebd_2025-08-17-21-35-03_37.33_-121.86_30_3.csv\n"
     ]
    },
    {
     "name": "stderr",
     "output_type": "stream",
     "text": [
      "\n"
     ]
    }
   ],
   "source": [
    "# San Jose, 37.33 N, 121.86 W\n",
    "params = {\n",
    "    'lat': 37.33,\n",
    "    'lng': -121.86,\n",
    "    'back': 30,\n",
    "    'dist': 3\n",
    "}\n",
    "df = ebt.get_data(**params, verbose=True)"
   ]
  },
  {
   "cell_type": "code",
   "execution_count": 19,
   "id": "6480a5ff-e598-4bab-8dc8-50915f796e3c",
   "metadata": {},
   "outputs": [
    {
     "data": {
      "text/plain": [
       "comName\n",
       "House Finch                      65\n",
       "California Towhee                17\n",
       "Anna's Hummingbird               11\n",
       "Acorn Woodpecker                  9\n",
       "Black Phoebe                      9\n",
       "Lesser Goldfinch                  7\n",
       "California Gull                   7\n",
       "California Scrub-Jay              5\n",
       "Mallard                           5\n",
       "Bushtit                           5\n",
       "Dark-eyed Junco                   4\n",
       "Hooded Oriole                     4\n",
       "American Robin                    4\n",
       "Nuttall's Woodpecker              3\n",
       "American Crow                     3\n",
       "Turkey Vulture                    3\n",
       "Chestnut-backed Chickadee         3\n",
       "Northern Mockingbird              3\n",
       "Western Bluebird                  3\n",
       "Brown-headed Cowbird              2\n",
       "Cooper's Hawk                     2\n",
       "Mourning Dove                     2\n",
       "Red-shouldered Hawk               2\n",
       "Bewick's Wren                     2\n",
       "Northern Rough-winged Swallow     2\n",
       "Great Blue Heron                  1\n",
       "Black-crowned Night Heron         1\n",
       "House Sparrow                     1\n",
       "Northern House Wren               1\n",
       "White-breasted Nuthatch           1\n",
       "Warbling Vireo                    1\n",
       "Western Flycatcher                1\n",
       "Red-tailed Hawk                   1\n",
       "Great Egret                       1\n",
       "Band-tailed Pigeon                1\n",
       "Peregrine Falcon                  1\n",
       "Name: count, dtype: int64"
      ]
     },
     "execution_count": 19,
     "metadata": {},
     "output_type": "execute_result"
    }
   ],
   "source": [
    "x = EBirdTools.load_data('data/ebd_2025-08-17-21-35-03_37.33_-121.86_30_3.csv')\n",
    "x['comName'].value_counts()"
   ]
  },
  {
   "cell_type": "code",
   "execution_count": 21,
   "id": "5f0c0378-302e-4ad8-abd2-fd37732c54cf",
   "metadata": {},
   "outputs": [],
   "source": [
    "from tqdm import tqdm\n",
    "# silent tqdm\n",
    "for _ in tqdm(range(1000), disable=True):\n",
    "    pass"
   ]
  }
 ],
 "metadata": {
  "kernelspec": {
   "display_name": "Python 3 (ipykernel)",
   "language": "python",
   "name": "python3"
  },
  "language_info": {
   "codemirror_mode": {
    "name": "ipython",
    "version": 3
   },
   "file_extension": ".py",
   "mimetype": "text/x-python",
   "name": "python",
   "nbconvert_exporter": "python",
   "pygments_lexer": "ipython3",
   "version": "3.11.5"
  }
 },
 "nbformat": 4,
 "nbformat_minor": 5
}
