{
 "cells": [
  {
   "cell_type": "code",
   "execution_count": 9,
   "id": "f36e2394-f97f-4593-811b-612263af9609",
   "metadata": {},
   "outputs": [],
   "source": [
    "# Hacky way to import from parent directory\n",
    "# https://www.reddit.com/r/learnpython/comments/x6nibz/comment/in7rxzu/?utm_source=share&utm_medium=web3x&utm_name=web3xcss&utm_term=1&utm_content=share_button\n",
    "import sys\n",
    "sys.path.append('..')"
   ]
  },
  {
   "cell_type": "code",
   "execution_count": 75,
   "id": "87aa9ecb-7d0f-487a-a8dd-d5e510030df0",
   "metadata": {},
   "outputs": [],
   "source": [
    "from ebirdtools import EBirdTools\n",
    "# San Jose\n",
    "data_sj = EBirdTools.load_data('../data/ebd_2025-08-20-20-26-00_37.33_-121.86_30_50.csv').sample(frac=0.1)\n",
    "# Everglades (Florida). This file is small so it's ok to load more.\n",
    "data_eg = EBirdTools.load_data('../data/ebd_2025-08-20-20-31-45_25.75_-80.56_30_50.csv').sample(frac=0.5)\n",
    "# Chicago\n",
    "data_ch = EBirdTools.load_data('../data/ebd_2025-08-20-20-35-54_41.88_-87.63_30_50.csv').sample(frac=0.1)\n",
    "# Los Angeles\n",
    "data_la = EBirdTools.load_data('../data/ebd_2025-08-20-20-40-54_34.05_-118.24_30_50.csv').sample(frac=0.1)\n",
    "# Seattle\n",
    "data_se = EBirdTools.load_data('../data/ebd_2025-08-20-20-44-54_47.61_-122.33_30_50.csv').sample(frac=0.1)"
   ]
  },
  {
   "cell_type": "code",
   "execution_count": 12,
   "id": "214a1dae-667f-466d-b64a-25afb7d23cfd",
   "metadata": {},
   "outputs": [],
   "source": [
    "import numpy as np\n",
    "import pandas as pd\n",
    "import matplotlib.pyplot as plt\n",
    "from sklearn.cluster import KMeans\n",
    "import plotly.express as px"
   ]
  },
  {
   "cell_type": "code",
   "execution_count": 1,
   "id": "4cee2354-7513-44f9-8a6d-ced8efb09dc9",
   "metadata": {},
   "outputs": [],
   "source": [
    "def label_clusters(df, plot=False):\n",
    "    \"\"\"\n",
    "    Returns a copy of the input df with a new column\n",
    "    specifying which cluster each row belongs to.\n",
    "    \"\"\"\n",
    "    clustering = KMeans(n_clusters=round(len(df) ** (1/3))).fit(df[['lat', 'lng']])\n",
    "    \n",
    "    df_aug = df.copy()\n",
    "    df_aug['cluster'] = pd.Series(clustering.labels_, index=df_aug.index)\n",
    "    \n",
    "    if plot:\n",
    "        fig = px.scatter_mapbox(df_aug, lat='lat', lon='lng', color='cluster', hover_name='comName')\n",
    "        fig.update_mapboxes(style='open-street-map')\n",
    "        fig.show()\n",
    "    return df_aug"
   ]
  },
  {
   "cell_type": "code",
   "execution_count": 3,
   "id": "240e0a4c-bdae-4cd0-a081-74bfb33cb2a5",
   "metadata": {},
   "outputs": [],
   "source": [
    "def species_per_cluster(df, by='comName'):\n",
    "    \"\"\"\n",
    "    Takes a df and returns a dict:\n",
    "        Key: Cluster number\n",
    "        Val: set of names found in the cluster\n",
    "    \"\"\"\n",
    "    species = {}\n",
    "    for i in pd.unique(df['cluster']):\n",
    "        names = set(df[df['cluster'] == i][by])\n",
    "        species[i] = names\n",
    "    return species"
   ]
  },
  {
   "cell_type": "code",
   "execution_count": 5,
   "id": "146113fb-2062-40e7-beb9-b0f84857886b",
   "metadata": {},
   "outputs": [],
   "source": [
    "def get_similarity(df_a, df_b):\n",
    "    \"\"\"\n",
    "    Gets cluster similarity by calculating the set\n",
    "    similarity of the species names found in each cluster.\n",
    "    \"\"\"\n",
    "    output = []\n",
    "    sp_a = species_per_cluster(df_a)\n",
    "    sp_b = species_per_cluster(df_b)\n",
    "    for k_a, v_a in sp_a.items():\n",
    "        for k_b, v_b in sp_b.items():\n",
    "            iou = len(v_a.intersection(v_b)) / len(v_a.union(v_b))\n",
    "            d = {'A': k_a, 'B': k_b, 'iou': iou}\n",
    "            output.append(d)\n",
    "    return pd.DataFrame(output)"
   ]
  },
  {
   "cell_type": "code",
   "execution_count": 23,
   "id": "2b03b3cc-880e-4eb6-b254-6cdbe5adee7e",
   "metadata": {},
   "outputs": [
    {
     "data": {
      "image/png": "[encoded data removed]",
      "text/plain": [
       "<Figure size 640x480 with 1 Axes>"
      ]
     },
     "metadata": {},
     "output_type": "display_data"
    }
   ],
   "source": [
    "cluster_similarities = get_similarity(\n",
    "    label_clusters(data_sj),\n",
    "    label_clusters(data_ch)\n",
    ")\n",
    "_ = cluster_similarities['iou'].plot.hist()"
   ]
  },
  {
   "cell_type": "code",
   "execution_count": 123,
   "id": "484b6cc9-b7e8-4345-a846-c50a8992b7cb",
   "metadata": {},
   "outputs": [],
   "source": [
    "def foo(name, df_src, df_tgt):\n",
    "    if name not in df_src['comName'].values:\n",
    "        raise KeyError('Unable to find species in the source location.')\n",
    "    \n",
    "    df_src = label_clusters(df_src)\n",
    "    df_tgt = label_clusters(df_tgt)\n",
    "    # find which source clusters the named species occurs in\n",
    "    src_clusters = np.unique(df_src[df_src['comName'] == name]['cluster'])\n",
    "    # drop the clusters that the named species doesn't occur in\n",
    "    df_src = df_src[df_src['cluster'].isin(src_clusters)]\n",
    "    # compare species sets\n",
    "    sims = get_similarity(df_src, df_tgt)\n",
    "    s = sims['iou'].max()\n",
    "    a = sims[sims['iou'] == s]['A'].item()\n",
    "    b = sims[sims['iou'] == s]['B'].item()\n",
    "    return a, b, s"
   ]
  },
  {
   "cell_type": "code",
   "execution_count": 151,
   "id": "729f6832-cb2a-4b6f-bd2a-a300cf34bace",
   "metadata": {},
   "outputs": [
    {
     "name": "stdout",
     "output_type": "stream",
     "text": [
      "Highest similarity: 0.35714285714285715\n",
      "Source cluster 1\n",
      "Target cluster 12\n"
     ]
    }
   ],
   "source": [
    "a, b, s = foo(\"Red-tailed Hawk\", data_se, data_ch)\n",
    "print('Highest similarity:', s)\n",
    "print('Source cluster', a)\n",
    "print('Target cluster', b)"
   ]
  }
 ],
 "metadata": {
  "kernelspec": {
   "display_name": "Python 3 (ipykernel)",
   "language": "python",
   "name": "python3"
  },
  "language_info": {
   "codemirror_mode": {
    "name": "ipython",
    "version": 3
   },
   "file_extension": ".py",
   "mimetype": "text/x-python",
   "name": "python",
   "nbconvert_exporter": "python",
   "pygments_lexer": "ipython3",
   "version": "3.11.5"
  }
 },
 "nbformat": 4,
 "nbformat_minor": 5
}
