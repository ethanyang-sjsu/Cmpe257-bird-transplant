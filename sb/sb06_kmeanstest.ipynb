{
 "cells": [
  {
   "cell_type": "code",
   "execution_count": 57,
   "id": "f36e2394-f97f-4593-811b-612263af9609",
   "metadata": {},
   "outputs": [],
   "source": [
    "# Hacky way to import from parent directory\n",
    "# https://www.reddit.com/r/learnpython/comments/x6nibz/comment/in7rxzu/?utm_source=share&utm_medium=web3x&utm_name=web3xcss&utm_term=1&utm_content=share_button\n",
    "import sys\n",
    "sys.path.append('..')"
   ]
  },
  {
   "cell_type": "code",
   "execution_count": 2,
   "id": "87aa9ecb-7d0f-487a-a8dd-d5e510030df0",
   "metadata": {},
   "outputs": [],
   "source": [
    "from ebirdtools import EBirdTools\n",
    "# San Jose\n",
    "data_sj = EBirdTools.load_data('../data/ebd_alt_2025-08-20-20-26-00_37.33_-121.86_30_50.csv').sample(frac=0.2)\n",
    "# Everglades (Florida). This file is small so it's ok to load more.\n",
    "data_eg = EBirdTools.load_data('../data/ebd_alt_2025-08-20-20-31-45_25.75_-80.56_30_50.csv').sample(frac=1.0)\n",
    "# Chicago\n",
    "data_ch = EBirdTools.load_data('../data/ebd_alt_2025-08-20-20-35-54_41.88_-87.63_30_50.csv').sample(frac=0.2)\n",
    "# Los Angeles\n",
    "data_la = EBirdTools.load_data('../data/ebd_alt_2025-08-20-20-40-54_34.05_-118.24_30_50.csv').sample(frac=0.2)\n",
    "# Seattle\n",
    "data_se = EBirdTools.load_data('../data/ebd_alt_2025-08-20-20-44-54_47.61_-122.33_30_50.csv').sample(frac=0.2)"
   ]
  },
  {
   "cell_type": "code",
   "execution_count": 3,
   "id": "214a1dae-667f-466d-b64a-25afb7d23cfd",
   "metadata": {},
   "outputs": [],
   "source": [
    "import numpy as np\n",
    "import pandas as pd\n",
    "import matplotlib.pyplot as plt\n",
    "from sklearn.cluster import KMeans\n",
    "import plotly.express as px\n",
    "import seaborn as sns"
   ]
  },
  {
   "cell_type": "code",
   "execution_count": 4,
   "id": "945e622f-5f47-4229-8b09-210bf05c4d23",
   "metadata": {},
   "outputs": [],
   "source": [
    "def plots(df, plot_px, plot_sns):\n",
    "    if plot_px:\n",
    "        fig = px.scatter_mapbox(df, lat='lat', lon='lng', color='cluster', hover_name='comName')\n",
    "        fig.update_mapboxes(style='open-street-map')\n",
    "        fig.show()\n",
    "    if plot_sns:\n",
    "        fig = sns.scatterplot(df, x='lng', y='lat', hue='cluster')\n",
    "        plt.show()"
   ]
  },
  {
   "cell_type": "code",
   "execution_count": 61,
   "id": "4cee2354-7513-44f9-8a6d-ced8efb09dc9",
   "metadata": {},
   "outputs": [],
   "source": [
    "def label_clusters(df, plot_px=False, plot_sns=False):\n",
    "    \"\"\"\n",
    "    Returns a copy of the input df with a new column\n",
    "    specifying which cluster each row belongs to.\n",
    "    \"\"\"\n",
    "    clustering = KMeans(n_clusters=round(len(df) ** (1/3))).fit(df[['lat', 'lng', 'alt']])\n",
    "    \n",
    "    df_aug = df.copy()\n",
    "    df_aug['cluster'] = pd.Series(clustering.labels_, index=df_aug.index)\n",
    "\n",
    "    plots(df_aug, plot_px, plot_sns)\n",
    "    \n",
    "    return df_aug"
   ]
  },
  {
   "cell_type": "code",
   "execution_count": 85,
   "id": "89cf3ba4-1054-48d7-93b6-920dc50334ed",
   "metadata": {},
   "outputs": [
    {
     "data": {
      "text/plain": [
       "cluster\n",
       "16    7092\n",
       "0     4539\n",
       "23    4433\n",
       "22    3339\n",
       "4     3228\n",
       "20    2034\n",
       "5     1995\n",
       "10    1875\n",
       "28    1388\n",
       "17    1347\n",
       "8     1038\n",
       "19     877\n",
       "13     842\n",
       "33     729\n",
       "15     726\n",
       "1      717\n",
       "7      667\n",
       "31     658\n",
       "11     579\n",
       "9      536\n",
       "27     504\n",
       "3      462\n",
       "25     461\n",
       "12     445\n",
       "24     397\n",
       "29     340\n",
       "14     299\n",
       "18     287\n",
       "34     227\n",
       "26     208\n",
       "6      183\n",
       "30     144\n",
       "21     101\n",
       "2       75\n",
       "32      29\n",
       "Name: count, dtype: int64"
      ]
     },
     "execution_count": 85,
     "metadata": {},
     "output_type": "execute_result"
    }
   ],
   "source": [
    "# Pseudo-normalize the elevation column\n",
    "lab_sj['alt'] = data_sj['elevation_meters'].apply(lambda x: x/1000)\n",
    "lab_sj = label_clusters(lab_sj)\n",
    "lab_sj['cluster'].value_counts()"
   ]
  },
  {
   "cell_type": "code",
   "execution_count": 87,
   "id": "0faff124-1b82-4be4-81f2-c5b18dbddcb9",
   "metadata": {},
   "outputs": [
    {
     "data": {
      "text/plain": [
       "cluster\n",
       "8     4568\n",
       "5     2254\n",
       "2     1458\n",
       "13    1389\n",
       "4     1384\n",
       "1     1197\n",
       "12    1175\n",
       "0      988\n",
       "19     913\n",
       "7      818\n",
       "18     726\n",
       "28     687\n",
       "14     679\n",
       "10     660\n",
       "16     628\n",
       "25     527\n",
       "22     501\n",
       "27     483\n",
       "23     475\n",
       "17     467\n",
       "15     419\n",
       "21     325\n",
       "24     322\n",
       "11     312\n",
       "3      299\n",
       "6      262\n",
       "20     155\n",
       "9       90\n",
       "26      78\n",
       "Name: count, dtype: int64"
      ]
     },
     "execution_count": 87,
     "metadata": {},
     "output_type": "execute_result"
    }
   ],
   "source": [
    "# Pseudo-normalize the elevation column\n",
    "lab_eg['alt'] = data_eg['elevation_meters'].apply(lambda x: x/1000)\n",
    "lab_eg = label_clusters(lab_eg)\n",
    "lab_eg['cluster'].value_counts()"
   ]
  },
  {
   "cell_type": "code",
   "execution_count": 89,
   "id": "b58104fc-188b-4ca5-a8b8-deb702a1f257",
   "metadata": {},
   "outputs": [
    {
     "data": {
      "text/plain": [
       "cluster\n",
       "11    2299\n",
       "5     1097\n",
       "2     1075\n",
       "24     891\n",
       "14     872\n",
       "17     865\n",
       "23     862\n",
       "9      723\n",
       "3      720\n",
       "1      706\n",
       "25     670\n",
       "19     631\n",
       "10     613\n",
       "7      608\n",
       "0      604\n",
       "16     590\n",
       "4      501\n",
       "8      492\n",
       "13     481\n",
       "18     473\n",
       "12     439\n",
       "20     406\n",
       "15     376\n",
       "21     334\n",
       "22     324\n",
       "6      301\n",
       "Name: count, dtype: int64"
      ]
     },
     "execution_count": 89,
     "metadata": {},
     "output_type": "execute_result"
    }
   ],
   "source": [
    "# Pseudo-normalize the elevation column\n",
    "lab_ch['alt'] = data_ch['elevation_meters'].apply(lambda x: x/1000)\n",
    "lab_ch = label_clusters(lab_ch)\n",
    "lab_ch['cluster'].value_counts()"
   ]
  },
  {
   "cell_type": "code",
   "execution_count": 99,
   "id": "45d9fa87-d342-415a-8a22-3c0dc23266f4",
   "metadata": {},
   "outputs": [
    {
     "data": {
      "text/plain": [
       "cluster\n",
       "7     3801\n",
       "3     2335\n",
       "10    1706\n",
       "0     1305\n",
       "6     1263\n",
       "19    1240\n",
       "20    1116\n",
       "24    1044\n",
       "22    1023\n",
       "2      993\n",
       "16     987\n",
       "4      977\n",
       "14     884\n",
       "11     768\n",
       "25     665\n",
       "13     625\n",
       "15     614\n",
       "12     601\n",
       "28     568\n",
       "26     442\n",
       "5      440\n",
       "29     350\n",
       "21     327\n",
       "1      313\n",
       "27     276\n",
       "8      266\n",
       "17     257\n",
       "23     257\n",
       "18     174\n",
       "9      137\n",
       "Name: count, dtype: int64"
      ]
     },
     "execution_count": 99,
     "metadata": {},
     "output_type": "execute_result"
    }
   ],
   "source": [
    "# Pseudo-normalize the elevation column\n",
    "lab_la['alt'] = data_la['elevation_meters'].apply(lambda x: x/1000)\n",
    "lab_la = label_clusters(lab_la)\n",
    "lab_la['cluster'].value_counts()"
   ]
  },
  {
   "cell_type": "code",
   "execution_count": 103,
   "id": "e625701e-4417-446f-a082-c6f588461b7c",
   "metadata": {},
   "outputs": [
    {
     "data": {
      "text/plain": [
       "cluster\n",
       "9     1788\n",
       "18    1640\n",
       "0     1604\n",
       "7     1509\n",
       "1     1190\n",
       "17    1028\n",
       "14     991\n",
       "25     990\n",
       "5      894\n",
       "23     803\n",
       "16     720\n",
       "4      703\n",
       "3      668\n",
       "20     668\n",
       "12     602\n",
       "11     575\n",
       "19     533\n",
       "22     488\n",
       "8      444\n",
       "6      418\n",
       "13     406\n",
       "10     404\n",
       "2      358\n",
       "15     345\n",
       "24     243\n",
       "26      82\n",
       "21      52\n",
       "Name: count, dtype: int64"
      ]
     },
     "execution_count": 103,
     "metadata": {},
     "output_type": "execute_result"
    }
   ],
   "source": [
    "# Pseudo-normalize the elevation column\n",
    "lab_se['alt'] = data_se['elevation_meters'].apply(lambda x: x/1000)\n",
    "lab_se = label_clusters(lab_se)\n",
    "lab_se['cluster'].value_counts()"
   ]
  },
  {
   "cell_type": "code",
   "execution_count": 11,
   "id": "240e0a4c-bdae-4cd0-a081-74bfb33cb2a5",
   "metadata": {},
   "outputs": [],
   "source": [
    "def species_per_cluster(df, by='comName'):\n",
    "    \"\"\"\n",
    "    Takes a df and returns a dict:\n",
    "        Key: Cluster number\n",
    "        Val: set of names found in the cluster\n",
    "    \"\"\"\n",
    "    species = {}\n",
    "    for i in pd.unique(df['cluster']):\n",
    "        names = set(df[df['cluster'] == i][by])\n",
    "        species[i] = names\n",
    "    return species"
   ]
  },
  {
   "cell_type": "code",
   "execution_count": 12,
   "id": "146113fb-2062-40e7-beb9-b0f84857886b",
   "metadata": {},
   "outputs": [],
   "source": [
    "def get_similarity(df_a, df_b):\n",
    "    \"\"\"\n",
    "    Gets cluster similarity by calculating the set\n",
    "    similarity of the species names found in each cluster.\n",
    "    \"\"\"\n",
    "    output = []\n",
    "    sp_a = species_per_cluster(df_a)\n",
    "    sp_b = species_per_cluster(df_b)\n",
    "    for k_a, v_a in sp_a.items():\n",
    "        for k_b, v_b in sp_b.items():\n",
    "            iou = len(v_a.intersection(v_b)) / len(v_a.union(v_b))\n",
    "            d = {'A': k_a, 'B': k_b, 'iou': iou}\n",
    "            output.append(d)\n",
    "    return pd.DataFrame(output)"
   ]
  },
  {
   "cell_type": "code",
   "execution_count": 227,
   "id": "2b03b3cc-880e-4eb6-b254-6cdbe5adee7e",
   "metadata": {},
   "outputs": [
    {
     "data": {
      "image/png": "[encoded data removed]",
      "text/plain": [
       "<Figure size 640x480 with 1 Axes>"
      ]
     },
     "metadata": {},
     "output_type": "display_data"
    }
   ],
   "source": [
    "cluster_similarities = get_similarity(\n",
    "    lab_sj,\n",
    "    lab_ch\n",
    ")\n",
    "_ = cluster_similarities['iou'].plot.hist()"
   ]
  },
  {
   "cell_type": "code",
   "execution_count": 215,
   "id": "484b6cc9-b7e8-4345-a846-c50a8992b7cb",
   "metadata": {},
   "outputs": [],
   "source": [
    "def foo(name, df_src, df_tgt, do_plots=False):\n",
    "    if name not in df_src['comName'].values:\n",
    "        raise KeyError('Unable to find species in the source region.')\n",
    "    print('Is bird already found in the target region?', name in df_tgt['comName'].values)\n",
    "    \n",
    "    # find which source clusters the named species occurs in\n",
    "    src_clusters = np.unique(df_src[df_src['comName'] == name]['cluster'])\n",
    "    # drop the clusters that the named species doesn't occur in\n",
    "    df_srcdrop = df_src[df_src['cluster'].isin(src_clusters)]\n",
    "    # compare species sets\n",
    "    sims = get_similarity(df_srcdrop, df_tgt)\n",
    "    \n",
    "    s_mean = sims['iou'].mean()\n",
    "    s_std = sims['iou'].std()\n",
    "    s_max = sims['iou'].max()\n",
    "    s_z = (s_max - s_mean) / s_std\n",
    "    a = sims[sims['iou'] == s_max]['A'].item()\n",
    "    b = sims[sims['iou'] == s_max]['B'].item()\n",
    "    print('Sub-cluster compatability:', round(s_mean, 2))\n",
    "    print('Highest similarity:', round(s_max, 2), f'(z {round(s_z, 2)})')\n",
    "\n",
    "    sightings_a = df_src['cluster'].value_counts()\n",
    "    sa_mean = sightings_a.mean()\n",
    "    sa_std = sightings_a.std()\n",
    "    sa_z = (sightings_a[a] - sa_mean) / sa_std\n",
    "    print('Source cluster:', a, f'(num sightings z {round(sa_z, 2)})')\n",
    "    sightings_b = df_tgt['cluster'].value_counts()\n",
    "    sb_mean = sightings_b.mean()\n",
    "    sb_std = sightings_b.std()\n",
    "    sb_z = (sightings_b[b] - sb_mean) / sb_std\n",
    "    print('Target cluster:', b, f'(num sightings z {round(sb_z, 2)})')\n",
    "\n",
    "    plots(df_a, do_plots, do_plots)\n",
    "    plots(df_b, do_plots, do_plots)"
   ]
  },
  {
   "cell_type": "code",
   "execution_count": 217,
   "id": "729f6832-cb2a-4b6f-bd2a-a300cf34bace",
   "metadata": {},
   "outputs": [
    {
     "name": "stdout",
     "output_type": "stream",
     "text": [
      "Is bird already found in the target region? True\n",
      "Sub-cluster compatability: 0.34\n",
      "Highest similarity: 0.63 (z 3.03)\n",
      "Source cluster: 7 (num sightings z 3.94)\n",
      "Target cluster: 22 (num sightings z 1.36)\n"
     ]
    }
   ],
   "source": [
    "bird = \"Western Bluebird\"\n",
    "df_a, df_b = lab_la, lab_sj\n",
    "\n",
    "foo(bird, df_a, df_b)"
   ]
  },
  {
   "cell_type": "code",
   "execution_count": 219,
   "id": "ee829c23-98ba-4e89-9e1e-7dfd5375e625",
   "metadata": {},
   "outputs": [
    {
     "name": "stdout",
     "output_type": "stream",
     "text": [
      "Is bird already found in the target region? False\n",
      "Sub-cluster compatability: 0.1\n",
      "Highest similarity: 0.17 (z 2.55)\n",
      "Source cluster: 0 (num sightings z 2.13)\n",
      "Target cluster: 14 (num sightings z -0.18)\n"
     ]
    }
   ],
   "source": [
    "bird = \"Common Murre\"\n",
    "df_a, df_b = lab_sj, lab_eg\n",
    "\n",
    "foo(bird, df_a, df_b)"
   ]
  },
  {
   "cell_type": "code",
   "execution_count": 221,
   "id": "b51dfba8-e9c5-471e-8025-58edca8bd2b0",
   "metadata": {},
   "outputs": [
    {
     "name": "stdout",
     "output_type": "stream",
     "text": [
      "Is bird already found in the target region? True\n",
      "Sub-cluster compatability: 0.25\n",
      "Highest similarity: 0.39 (z 2.54)\n",
      "Source cluster: 7 (num sightings z 1.63)\n",
      "Target cluster: 0 (num sightings z -0.22)\n"
     ]
    }
   ],
   "source": [
    "bird = \"Canada Goose\"\n",
    "df_a, df_b = lab_se, lab_ch\n",
    "\n",
    "foo(bird, df_a, df_b)"
   ]
  }
 ],
 "metadata": {
  "kernelspec": {
   "display_name": "Python 3 (ipykernel)",
   "language": "python",
   "name": "python3"
  },
  "language_info": {
   "codemirror_mode": {
    "name": "ipython",
    "version": 3
   },
   "file_extension": ".py",
   "mimetype": "text/x-python",
   "name": "python",
   "nbconvert_exporter": "python",
   "pygments_lexer": "ipython3",
   "version": "3.11.5"
  }
 },
 "nbformat": 4,
 "nbformat_minor": 5
}
