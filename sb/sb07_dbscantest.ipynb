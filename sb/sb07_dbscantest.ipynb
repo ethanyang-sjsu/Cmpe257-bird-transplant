{
 "cells": [
  {
   "cell_type": "code",
   "execution_count": 1,
   "id": "f36e2394-f97f-4593-811b-612263af9609",
   "metadata": {},
   "outputs": [],
   "source": [
    "# Hacky way to import from parent directory\n",
    "# https://www.reddit.com/r/learnpython/comments/x6nibz/comment/in7rxzu/?utm_source=share&utm_medium=web3x&utm_name=web3xcss&utm_term=1&utm_content=share_button\n",
    "import sys\n",
    "sys.path.append('..')"
   ]
  },
  {
   "cell_type": "code",
   "execution_count": 2,
   "id": "87aa9ecb-7d0f-487a-a8dd-d5e510030df0",
   "metadata": {},
   "outputs": [],
   "source": [
    "from ebirdtools import EBirdTools\n",
    "# San Jose\n",
    "data_sj = EBirdTools.load_data('../data/ebd_alt_2025-08-20-20-26-00_37.33_-121.86_30_50.csv').sample(frac=0.2)\n",
    "# Everglades (Florida). This file is small so it's ok to load more.\n",
    "data_eg = EBirdTools.load_data('../data/ebd_alt_2025-08-20-20-31-45_25.75_-80.56_30_50.csv').sample(frac=1.0)\n",
    "# Chicago\n",
    "data_ch = EBirdTools.load_data('../data/ebd_alt_2025-08-20-20-35-54_41.88_-87.63_30_50.csv').sample(frac=0.2)\n",
    "# Los Angeles\n",
    "data_la = EBirdTools.load_data('../data/ebd_alt_2025-08-20-20-40-54_34.05_-118.24_30_50.csv').sample(frac=0.2)\n",
    "# Seattle\n",
    "data_se = EBirdTools.load_data('../data/ebd_alt_2025-08-20-20-44-54_47.61_-122.33_30_50.csv').sample(frac=0.2)"
   ]
  },
  {
   "cell_type": "code",
   "execution_count": 3,
   "id": "214a1dae-667f-466d-b64a-25afb7d23cfd",
   "metadata": {},
   "outputs": [],
   "source": [
    "import numpy as np\n",
    "import pandas as pd\n",
    "import matplotlib.pyplot as plt\n",
    "from sklearn.cluster import DBSCAN\n",
    "import plotly.express as px\n",
    "import seaborn as sns"
   ]
  },
  {
   "cell_type": "code",
   "execution_count": 4,
   "id": "945e622f-5f47-4229-8b09-210bf05c4d23",
   "metadata": {},
   "outputs": [],
   "source": [
    "def plots(df, plot_px, plot_sns):\n",
    "    if plot_px:\n",
    "        fig = px.scatter_mapbox(df, lat='lat', lon='lng', color='cluster', hover_name='comName')\n",
    "        fig.update_mapboxes(style='open-street-map')\n",
    "        fig.show()\n",
    "    if plot_sns:\n",
    "        fig = sns.scatterplot(df, x='lng', y='lat', hue='cluster')\n",
    "        plt.show()"
   ]
  },
  {
   "cell_type": "code",
   "execution_count": 62,
   "id": "4cee2354-7513-44f9-8a6d-ced8efb09dc9",
   "metadata": {},
   "outputs": [],
   "source": [
    "def label_clusters(df, plot_px=False, plot_sns=False):\n",
    "    \"\"\"\n",
    "    Returns a copy of the input df with a new column\n",
    "    specifying which cluster each row belongs to.\n",
    "    \"\"\"\n",
    "    clustering = DBSCAN(eps=0.02,\n",
    "                        min_samples=50).fit(df[['lat', 'lng', 'alt']])\n",
    "    \n",
    "    df_aug = df.copy()\n",
    "    df_aug['cluster'] = pd.Series(clustering.labels_, index=df_aug.index)\n",
    "    # DBSCAN uses labels of '-1' for points that are too noisy to cluster\n",
    "    df_aug = df_aug[df_aug['cluster'] != -1]\n",
    "\n",
    "    plots(df_aug, plot_px, plot_sns)\n",
    "    \n",
    "    return df_aug"
   ]
  },
  {
   "cell_type": "code",
   "execution_count": 64,
   "id": "89cf3ba4-1054-48d7-93b6-920dc50334ed",
   "metadata": {},
   "outputs": [
    {
     "data": {
      "text/plain": [
       "cluster\n",
       "1     10467\n",
       "5     10301\n",
       "8      1924\n",
       "10     1843\n",
       "14     1033\n",
       "      ...  \n",
       "11       51\n",
       "63       51\n",
       "58       50\n",
       "13       50\n",
       "69       45\n",
       "Name: count, Length: 70, dtype: int64"
      ]
     },
     "execution_count": 64,
     "metadata": {},
     "output_type": "execute_result"
    }
   ],
   "source": [
    "# Pseudo-normalize the elevation column\n",
    "lab_sj['alt'] = data_sj['elevation_meters'].apply(lambda x: x/1000)\n",
    "lab_sj = label_clusters(lab_sj)\n",
    "lab_sj['cluster'].value_counts()"
   ]
  },
  {
   "cell_type": "code",
   "execution_count": 66,
   "id": "0faff124-1b82-4be4-81f2-c5b18dbddcb9",
   "metadata": {},
   "outputs": [
    {
     "data": {
      "text/plain": [
       "cluster\n",
       "1     4182\n",
       "2     3236\n",
       "18    1820\n",
       "4     1369\n",
       "11    1257\n",
       "8     1155\n",
       "0     1141\n",
       "6      976\n",
       "7      810\n",
       "9      708\n",
       "16     676\n",
       "13     481\n",
       "22     453\n",
       "23     386\n",
       "5      327\n",
       "31     314\n",
       "3      299\n",
       "34     280\n",
       "12     264\n",
       "43     259\n",
       "29     246\n",
       "30     229\n",
       "42     195\n",
       "15     192\n",
       "26     189\n",
       "25     187\n",
       "24     163\n",
       "36     156\n",
       "41     145\n",
       "28     137\n",
       "21     132\n",
       "10     125\n",
       "45     112\n",
       "33     110\n",
       "19     107\n",
       "35      89\n",
       "37      89\n",
       "32      79\n",
       "20      78\n",
       "44      78\n",
       "14      77\n",
       "40      71\n",
       "38      70\n",
       "27      64\n",
       "39      54\n",
       "17      52\n",
       "Name: count, dtype: int64"
      ]
     },
     "execution_count": 66,
     "metadata": {},
     "output_type": "execute_result"
    }
   ],
   "source": [
    "# Pseudo-normalize the elevation column\n",
    "lab_eg['alt'] = data_eg['elevation_meters'].apply(lambda x: x/1000)\n",
    "lab_eg = label_clusters(lab_eg)\n",
    "lab_eg['cluster'].value_counts()"
   ]
  },
  {
   "cell_type": "code",
   "execution_count": 68,
   "id": "b58104fc-188b-4ca5-a8b8-deb702a1f257",
   "metadata": {},
   "outputs": [
    {
     "data": {
      "text/plain": [
       "cluster\n",
       "0     5335\n",
       "5     1038\n",
       "14     628\n",
       "4      619\n",
       "6      558\n",
       "      ... \n",
       "53      41\n",
       "59      41\n",
       "58      40\n",
       "57      25\n",
       "56      11\n",
       "Name: count, Length: 62, dtype: int64"
      ]
     },
     "execution_count": 68,
     "metadata": {},
     "output_type": "execute_result"
    }
   ],
   "source": [
    "# Pseudo-normalize the elevation column\n",
    "lab_ch['alt'] = data_ch['elevation_meters'].apply(lambda x: x/1000)\n",
    "lab_ch = label_clusters(lab_ch)\n",
    "lab_ch['cluster'].value_counts()"
   ]
  },
  {
   "cell_type": "code",
   "execution_count": 70,
   "id": "45d9fa87-d342-415a-8a22-3c0dc23266f4",
   "metadata": {},
   "outputs": [
    {
     "data": {
      "text/plain": [
       "cluster\n",
       "2     5289\n",
       "5     1561\n",
       "18     983\n",
       "12     956\n",
       "3      758\n",
       "      ... \n",
       "61      52\n",
       "72      51\n",
       "59      51\n",
       "62      50\n",
       "73      50\n",
       "Name: count, Length: 74, dtype: int64"
      ]
     },
     "execution_count": 70,
     "metadata": {},
     "output_type": "execute_result"
    }
   ],
   "source": [
    "# Pseudo-normalize the elevation column\n",
    "lab_la['alt'] = data_la['elevation_meters'].apply(lambda x: x/1000)\n",
    "lab_la = label_clusters(lab_la)\n",
    "lab_la['cluster'].value_counts()"
   ]
  },
  {
   "cell_type": "code",
   "execution_count": 72,
   "id": "e625701e-4417-446f-a082-c6f588461b7c",
   "metadata": {},
   "outputs": [
    {
     "data": {
      "text/plain": [
       "cluster\n",
       "9     1384\n",
       "3      729\n",
       "14     449\n",
       "11     447\n",
       "21     439\n",
       "      ... \n",
       "28      50\n",
       "83      50\n",
       "40      50\n",
       "80      50\n",
       "86      50\n",
       "Name: count, Length: 89, dtype: int64"
      ]
     },
     "execution_count": 72,
     "metadata": {},
     "output_type": "execute_result"
    }
   ],
   "source": [
    "# Pseudo-normalize the elevation column\n",
    "lab_se['alt'] = data_se['elevation_meters'].apply(lambda x: x/1000)\n",
    "lab_se = label_clusters(lab_se)\n",
    "lab_se['cluster'].value_counts()"
   ]
  },
  {
   "cell_type": "code",
   "execution_count": 11,
   "id": "240e0a4c-bdae-4cd0-a081-74bfb33cb2a5",
   "metadata": {},
   "outputs": [],
   "source": [
    "def species_per_cluster(df, by='comName'):\n",
    "    \"\"\"\n",
    "    Takes a df and returns a dict:\n",
    "        Key: Cluster number\n",
    "        Val: set of names found in the cluster\n",
    "    \"\"\"\n",
    "    species = {}\n",
    "    for i in pd.unique(df['cluster']):\n",
    "        names = set(df[df['cluster'] == i][by])\n",
    "        species[i] = names\n",
    "    return species"
   ]
  },
  {
   "cell_type": "code",
   "execution_count": 12,
   "id": "146113fb-2062-40e7-beb9-b0f84857886b",
   "metadata": {},
   "outputs": [],
   "source": [
    "def get_similarity(df_a, df_b):\n",
    "    \"\"\"\n",
    "    Gets cluster similarity by calculating the set\n",
    "    similarity of the species names found in each cluster.\n",
    "    \"\"\"\n",
    "    output = []\n",
    "    sp_a = species_per_cluster(df_a)\n",
    "    sp_b = species_per_cluster(df_b)\n",
    "    for k_a, v_a in sp_a.items():\n",
    "        for k_b, v_b in sp_b.items():\n",
    "            iou = len(v_a.intersection(v_b)) / len(v_a.union(v_b))\n",
    "            d = {'A': k_a, 'B': k_b, 'iou': iou}\n",
    "            output.append(d)\n",
    "    return pd.DataFrame(output)"
   ]
  },
  {
   "cell_type": "code",
   "execution_count": 74,
   "id": "2b03b3cc-880e-4eb6-b254-6cdbe5adee7e",
   "metadata": {},
   "outputs": [
    {
     "data": {
      "image/png": "[encoded data removed]",
      "text/plain": [
       "<Figure size 640x480 with 1 Axes>"
      ]
     },
     "metadata": {},
     "output_type": "display_data"
    }
   ],
   "source": [
    "cluster_similarities = get_similarity(\n",
    "    lab_sj,\n",
    "    lab_ch\n",
    ")\n",
    "_ = cluster_similarities['iou'].plot.hist()"
   ]
  },
  {
   "cell_type": "code",
   "execution_count": 76,
   "id": "484b6cc9-b7e8-4345-a846-c50a8992b7cb",
   "metadata": {},
   "outputs": [],
   "source": [
    "def foo(name, df_src, df_tgt, do_plots=False):\n",
    "    if name not in df_src['comName'].values:\n",
    "        raise KeyError('Unable to find species in the source region.')\n",
    "    print('Is bird already found in the target region?', name in df_tgt['comName'].values)\n",
    "    \n",
    "    # find which source clusters the named species occurs in\n",
    "    src_clusters = np.unique(df_src[df_src['comName'] == name]['cluster'])\n",
    "    # drop the clusters that the named species doesn't occur in\n",
    "    df_srcdrop = df_src[df_src['cluster'].isin(src_clusters)]\n",
    "    # compare species sets\n",
    "    sims = get_similarity(df_srcdrop, df_tgt)\n",
    "    \n",
    "    s_mean = sims['iou'].mean()\n",
    "    s_std = sims['iou'].std()\n",
    "    s_max = sims['iou'].max()\n",
    "    s_z = (s_max - s_mean) / s_std\n",
    "    a = sims[sims['iou'] == s_max]['A'].item()\n",
    "    b = sims[sims['iou'] == s_max]['B'].item()\n",
    "    print('Sub-cluster compatability:', round(s_mean, 2))\n",
    "    print('Highest similarity:', round(s_max, 2), f'(z {round(s_z, 2)})')\n",
    "\n",
    "    sightings_a = df_src['cluster'].value_counts()\n",
    "    sa_mean = sightings_a.mean()\n",
    "    sa_std = sightings_a.std()\n",
    "    sa_z = (sightings_a[a] - sa_mean) / sa_std\n",
    "    print('Source cluster:', a, f'(num sightings z {round(sa_z, 2)})')\n",
    "    sightings_b = df_tgt['cluster'].value_counts()\n",
    "    sb_mean = sightings_b.mean()\n",
    "    sb_std = sightings_b.std()\n",
    "    sb_z = (sightings_b[b] - sb_mean) / sb_std\n",
    "    print('Target cluster:', b, f'(num sightings z {round(sb_z, 2)})')\n",
    "\n",
    "    plots(df_a, do_plots, do_plots)\n",
    "    plots(df_b, do_plots, do_plots)"
   ]
  },
  {
   "cell_type": "code",
   "execution_count": 78,
   "id": "729f6832-cb2a-4b6f-bd2a-a300cf34bace",
   "metadata": {},
   "outputs": [
    {
     "name": "stdout",
     "output_type": "stream",
     "text": [
      "Is bird already found in the target region? True\n",
      "Sub-cluster compatability: 0.18\n",
      "Highest similarity: 0.59 (z 3.85)\n",
      "Source cluster: 2 (num sightings z 7.69)\n",
      "Target cluster: 5 (num sightings z 5.62)\n"
     ]
    }
   ],
   "source": [
    "bird = \"Western Bluebird\"\n",
    "df_a, df_b = lab_la, lab_sj\n",
    "\n",
    "foo(bird, df_a, df_b)"
   ]
  },
  {
   "cell_type": "code",
   "execution_count": 80,
   "id": "ee829c23-98ba-4e89-9e1e-7dfd5375e625",
   "metadata": {},
   "outputs": [
    {
     "name": "stdout",
     "output_type": "stream",
     "text": [
      "Is bird already found in the target region? False\n",
      "Sub-cluster compatability: 0.05\n",
      "Highest similarity: 0.19 (z 3.72)\n",
      "Source cluster: 1 (num sightings z 5.72)\n",
      "Target cluster: 16 (num sightings z 0.2)\n"
     ]
    }
   ],
   "source": [
    "bird = \"Common Murre\"\n",
    "df_a, df_b = lab_sj, lab_eg\n",
    "\n",
    "foo(bird, df_a, df_b)"
   ]
  },
  {
   "cell_type": "code",
   "execution_count": 82,
   "id": "b51dfba8-e9c5-471e-8025-58edca8bd2b0",
   "metadata": {},
   "outputs": [
    {
     "name": "stdout",
     "output_type": "stream",
     "text": [
      "Is bird already found in the target region? True\n",
      "Sub-cluster compatability: 0.15\n",
      "Highest similarity: 0.37 (z 3.45)\n",
      "Source cluster: 27 (num sightings z 0.87)\n",
      "Target cluster: 46 (num sightings z -0.15)\n"
     ]
    }
   ],
   "source": [
    "bird = \"Canada Goose\"\n",
    "df_a, df_b = lab_se, lab_ch\n",
    "\n",
    "foo(bird, df_a, df_b)"
   ]
  }
 ],
 "metadata": {
  "kernelspec": {
   "display_name": "Python 3 (ipykernel)",
   "language": "python",
   "name": "python3"
  },
  "language_info": {
   "codemirror_mode": {
    "name": "ipython",
    "version": 3
   },
   "file_extension": ".py",
   "mimetype": "text/x-python",
   "name": "python",
   "nbconvert_exporter": "python",
   "pygments_lexer": "ipython3",
   "version": "3.11.5"
  }
 },
 "nbformat": 4,
 "nbformat_minor": 5
}
