{
 "cells": [
  {
   "cell_type": "code",
   "execution_count": 21,
   "id": "2a19139d-c745-4d62-9813-4445bd4e32b8",
   "metadata": {},
   "outputs": [],
   "source": [
    "KEY_PATH = \"../ebird_api.key\"\n",
    "EBIRD_KEY = \"\"\n",
    "\n",
    "\"\"\"\n",
    "If you get an error (i.e. FileNotFoundError), that means you don't have the API\n",
    "key set up. You MUST request your own API key. It is intentionally excluded\n",
    "from the git repo (via gitignore).\n",
    "\"\"\"\n",
    "with open(KEY_PATH) as f:\n",
    "    EBIRD_KEY = f.read()"
   ]
  },
  {
   "cell_type": "code",
   "execution_count": 3,
   "id": "ea307ab8-46bf-49f3-8f67-9b951bf4d9e4",
   "metadata": {},
   "outputs": [],
   "source": [
    "import requests\n",
    "import pandas as pd\n",
    "from tqdm import tqdm"
   ]
  },
  {
   "cell_type": "code",
   "execution_count": 43,
   "id": "b83c1f02-523a-4dc9-a4a9-6f99b13212b7",
   "metadata": {},
   "outputs": [],
   "source": [
    "# San Jose, 37.33 N, 121.86 W\n",
    "# 30 days back\n",
    "# 50 km radius\n",
    "params = {\n",
    "    'lat': 37.33,\n",
    "    'lng': -121.86,\n",
    "    'back': 30,\n",
    "    'dist': 50\n",
    "}"
   ]
  },
  {
   "cell_type": "code",
   "execution_count": 67,
   "id": "2dcb2953-7711-432c-b6d9-202ffb27bda0",
   "metadata": {},
   "outputs": [],
   "source": [
    "def get_species(lat, lng, back=14, dist=25):\n",
    "    \"\"\"\n",
    "    Get recent sightings of all species by the specified location.\n",
    "    Per the API, only lists one entry per species.\n",
    "    @param lat: Latitude to 2 decimal places (-90 to 90)\n",
    "    @param lng: Longitude to 2 decimal places (-180 to 180)\n",
    "    @param back: Days back to fetch observations (1 to 30)\n",
    "    @param dist: Search radius (km) from given position (0 to 50)\n",
    "    @return: List of species\n",
    "    \"\"\"\n",
    "    # https://api.ebird.org/v2/data/obs/geo/recent\n",
    "    url = f\"https://api.ebird.org/v2/data/obs/geo/recent?lat={lat}&lng={lng}&back={back}&dist={dist}\"\n",
    "    headers = {'X-eBirdApiToken': EBIRD_KEY}\n",
    "    req = requests.request(\"GET\", url, headers=headers)\n",
    "    \n",
    "    df = pd.read_json(req.text)\n",
    "    # Throw away the rest of the columns in the df. We only care about the speciesCode.\n",
    "    output = df['speciesCode'].to_list()\n",
    "    return output"
   ]
  },
  {
   "cell_type": "code",
   "execution_count": 69,
   "id": "91c17c3a-ffe3-4f6d-aa48-fe3d4d818395",
   "metadata": {},
   "outputs": [],
   "source": [
    "def get_sightings(species, lat, lng, back=14, dist=25):\n",
    "    \"\"\"\n",
    "    Get recent sightings of each of the listed species by the specified location.\n",
    "    @param species: List of species\n",
    "    @param lat: Latitude to 2 decimal places (-90 to 90)\n",
    "    @param lng: Longitude to 2 decimal places (-180 to 180)\n",
    "    @param back: Days back to fetch observations (1 to 30)\n",
    "    @param dist: Search radius (km) from given position (0 to 50)\n",
    "    @return: Df of all sightings\n",
    "    \"\"\"\n",
    "    # Get all individual sightings per species.\n",
    "    df_list = []\n",
    "    for s in tqdm(species):\n",
    "        # https://api.ebird.org/v2/data/obs/geo/recent/{{speciesCode}}\n",
    "        url = f\"https://api.ebird.org/v2/data/obs/geo/recent/{s}?lat={lat}&lng={lng}&back={back}&dist={dist}\"\n",
    "        headers = {'X-eBirdApiToken': EBIRD_KEY}\n",
    "        req = requests.request(\"GET\", url, headers=headers)\n",
    "        \n",
    "        df = pd.read_json(req.text)\n",
    "        df_list.append(df)\n",
    "    \n",
    "    df = pd.concat(df_list)\n",
    "    # Replace invalid values for howMany with 1's\n",
    "    # print(pd.concat(df_list).isnull().sum())\n",
    "    df = df.fillna({'howMany': 1})\n",
    "    return df"
   ]
  },
  {
   "cell_type": "code",
   "execution_count": 57,
   "id": "a08a135a-98b4-48f4-90f6-8b47e207417f",
   "metadata": {},
   "outputs": [
    {
     "name": "stdout",
     "output_type": "stream",
     "text": [
      "Species found: 242\n"
     ]
    }
   ],
   "source": [
    "species = get_species(**params)\n",
    "print('Species found:', len(species))"
   ]
  },
  {
   "cell_type": "code",
   "execution_count": 101,
   "id": "42b171e9-c966-4900-864c-05a5ee9275b1",
   "metadata": {
    "scrolled": true
   },
   "outputs": [
    {
     "name": "stderr",
     "output_type": "stream",
     "text": [
      "100%|████████████████████████████████████████████████████████████████████████████████| 242/242 [04:17<00:00,  1.07s/it]\n"
     ]
    }
   ],
   "source": [
    "df = get_sightings(species, **params)"
   ]
  },
  {
   "cell_type": "code",
   "execution_count": 102,
   "id": "60a7c819-0628-473a-9645-98cf6b2876b8",
   "metadata": {},
   "outputs": [
    {
     "data": {
      "text/plain": [
       "comName\n",
       "House Finch                    826\n",
       "Anna's Hummingbird             817\n",
       "California Towhee              760\n",
       "American Crow                  724\n",
       "Black Phoebe                   723\n",
       "                              ... \n",
       "Red Phalarope                    1\n",
       "Greater White-fronted Goose      1\n",
       "Swan Goose                       1\n",
       "Solitary Sandpiper               1\n",
       "Townsend's Warbler               1\n",
       "Name: count, Length: 242, dtype: int64"
      ]
     },
     "execution_count": 102,
     "metadata": {},
     "output_type": "execute_result"
    }
   ],
   "source": [
    "df['comName'].value_counts()"
   ]
  },
  {
   "cell_type": "code",
   "execution_count": 103,
   "id": "7158bf4e-68da-4d10-a521-875b746e9d00",
   "metadata": {},
   "outputs": [],
   "source": [
    "# Save off this version of the df\n",
    "# (named \"ebd*\" so that it gets gitignore'd)\n",
    "SAVED_FILE = 'ebd_nearby.csv'\n",
    "df.to_csv(SAVED_FILE)"
   ]
  },
  {
   "cell_type": "code",
   "execution_count": 104,
   "id": "b4219a40-b4f4-45b4-bb9c-4b0f121cca38",
   "metadata": {},
   "outputs": [],
   "source": [
    "def decompress(df):\n",
    "    \"\"\"\n",
    "    Decompresses a df. Removes the howMany column\n",
    "    by creating new rows of duplicate entries.\n",
    "    \"\"\"\n",
    "    df = df.copy()\n",
    "    \n",
    "    # This helper function returns a list with a length\n",
    "    # equal to the input number\n",
    "    _x = lambda x: [None for _ in range(int(x))]\n",
    "    df['howMany'] = df['howMany'].apply(_x)\n",
    "    # Explode to make the duplicate entries\n",
    "    df = df.explode('howMany')\n",
    "    df = df.drop('howMany', axis=1)\n",
    "    # Clean up\n",
    "    df = df.reset_index()\n",
    "    df = df.drop('index', axis=1)\n",
    "    return df"
   ]
  },
  {
   "cell_type": "code",
   "execution_count": 105,
   "id": "2ccd4abd-c0be-4347-8b05-c58aa6530e9a",
   "metadata": {},
   "outputs": [
    {
     "data": {
      "text/plain": [
       "comName\n",
       "Sooty Shearwater      158494\n",
       "Western Sandpiper      42374\n",
       "California Gull        12940\n",
       "American Avocet         8360\n",
       "Brown Pelican           6665\n",
       "                       ...  \n",
       "Cassin's Auklet            1\n",
       "Budgerigar                 1\n",
       "Rufous Hummingbird         1\n",
       "Red Phalarope              1\n",
       "Solitary Sandpiper         1\n",
       "Name: count, Length: 242, dtype: int64"
      ]
     },
     "execution_count": 105,
     "metadata": {},
     "output_type": "execute_result"
    }
   ],
   "source": [
    "df_read = pd.read_csv(SAVED_FILE, index_col=0)\n",
    "df_d = decompress(df_read)\n",
    "df_d['comName'].value_counts()"
   ]
  }
 ],
 "metadata": {
  "kernelspec": {
   "display_name": "Python 3 (ipykernel)",
   "language": "python",
   "name": "python3"
  },
  "language_info": {
   "codemirror_mode": {
    "name": "ipython",
    "version": 3
   },
   "file_extension": ".py",
   "mimetype": "text/x-python",
   "name": "python",
   "nbconvert_exporter": "python",
   "pygments_lexer": "ipython3",
   "version": "3.11.5"
  }
 },
 "nbformat": 4,
 "nbformat_minor": 5
}
