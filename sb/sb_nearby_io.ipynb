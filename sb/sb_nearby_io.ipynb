{
 "cells": [
  {
   "cell_type": "code",
   "execution_count": 1,
   "id": "2a19139d-c745-4d62-9813-4445bd4e32b8",
   "metadata": {},
   "outputs": [],
   "source": [
    "KEY_PATH = \"../ebird_api.key\"\n",
    "EBIRD_KEY = \"\"\n",
    "\n",
    "with open(KEY_PATH) as f:\n",
    "    EBIRD_KEY = f.read()\n",
    "_ = \"\"\"\n",
    "If you get an error (i.e. FileNotFoundError), that means you don't have the API\n",
    "key set up. You MUST request your own API key. It is intentionally excluded\n",
    "from the git repo (via gitignore).\n",
    "\"\"\""
   ]
  },
  {
   "cell_type": "code",
   "execution_count": 38,
   "id": "ea307ab8-46bf-49f3-8f67-9b951bf4d9e4",
   "metadata": {},
   "outputs": [],
   "source": [
    "import requests\n",
    "import pandas as pd\n",
    "from tqdm import tqdm"
   ]
  },
  {
   "cell_type": "code",
   "execution_count": 5,
   "id": "2dcb2953-7711-432c-b6d9-202ffb27bda0",
   "metadata": {},
   "outputs": [],
   "source": [
    "# Get all sightings close to this location.\n",
    "# Only has one entry per species.\n",
    "# San Jose, 37.33 N, 121.86 W\n",
    "url = \"https://api.ebird.org/v2/data/obs/geo/recent?lat=37.33&lng=-121.86\"\n",
    "\n",
    "payload= {}\n",
    "headers = {\n",
    "    'X-eBirdApiToken': EBIRD_KEY\n",
    "}\n",
    "\n",
    "resp_recent = requests.request(\"GET\", url, headers=headers, data=payload)\n",
    "resp_recent = pd.read_json(resp_recent.text)"
   ]
  },
  {
   "cell_type": "code",
   "execution_count": 32,
   "id": "a08a135a-98b4-48f4-90f6-8b47e207417f",
   "metadata": {},
   "outputs": [
    {
     "name": "stdout",
     "output_type": "stream",
     "text": [
      "Species in the list: 176\n"
     ]
    },
    {
     "data": {
      "text/plain": [
       "0    moudov\n",
       "1    houspa\n",
       "2    houfin\n",
       "3    daejun\n",
       "4    sonspa\n",
       "Name: speciesCode, dtype: object"
      ]
     },
     "execution_count": 32,
     "metadata": {},
     "output_type": "execute_result"
    }
   ],
   "source": [
    "species = resp_recent['speciesCode']\n",
    "n_species = len(species)\n",
    "print('Species in the list:', n_species)\n",
    "species.head()"
   ]
  },
  {
   "cell_type": "code",
   "execution_count": 40,
   "id": "91c17c3a-ffe3-4f6d-aa48-fe3d4d818395",
   "metadata": {},
   "outputs": [
    {
     "name": "stderr",
     "output_type": "stream",
     "text": [
      "100%|████████████████████████████████████████████████████████████████████████████████| 176/176 [02:40<00:00,  1.09it/s]"
     ]
    },
    {
     "name": "stdout",
     "output_type": "stream",
     "text": [
      "Done\n"
     ]
    },
    {
     "name": "stderr",
     "output_type": "stream",
     "text": [
      "\n"
     ]
    }
   ],
   "source": [
    "# Get all individual sightings per species.\n",
    "df_list = []\n",
    "\n",
    "for i, s in tqdm(enumerate(species), total=n_species):\n",
    "    url = f\"https://api.ebird.org/v2/data/obs/geo/recent/{s}?lat=37.33&lng=-121.86\"\n",
    "    response = requests.request(\"GET\", url, headers=headers, data=payload)\n",
    "    df = pd.read_json(response.text)\n",
    "    df_list.append(df)"
   ]
  },
  {
   "cell_type": "code",
   "execution_count": 167,
   "id": "42b171e9-c966-4900-864c-05a5ee9275b1",
   "metadata": {
    "scrolled": true
   },
   "outputs": [
    {
     "data": {
      "text/plain": [
       "comName\n",
       "House Finch             211\n",
       "Anna's Hummingbird      183\n",
       "Lesser Goldfinch        177\n",
       "American Crow           176\n",
       "California Towhee       168\n",
       "                       ... \n",
       "Cassin's Kingbird         1\n",
       "Red Knot                  1\n",
       "Glaucous-winged Gull      1\n",
       "Least Bittern             1\n",
       "Rock Wren                 1\n",
       "Name: count, Length: 176, dtype: int64"
      ]
     },
     "execution_count": 167,
     "metadata": {},
     "output_type": "execute_result"
    }
   ],
   "source": [
    "# Replace invalid values for howMany with 1's\n",
    "# print(pd.concat(df_list).isnull().sum())\n",
    "df = pd.concat(df_list)\n",
    "df = df.fillna({'howMany': 1})\n",
    "df['comName'].value_counts()"
   ]
  },
  {
   "cell_type": "code",
   "execution_count": 131,
   "id": "7158bf4e-68da-4d10-a521-875b746e9d00",
   "metadata": {},
   "outputs": [],
   "source": [
    "# Save off this version of the df\n",
    "# (named \"ebd*\" so that it gets gitignore'd)\n",
    "df.to_csv('ebd_nearby.csv')"
   ]
  },
  {
   "cell_type": "code",
   "execution_count": 147,
   "id": "b4219a40-b4f4-45b4-bb9c-4b0f121cca38",
   "metadata": {},
   "outputs": [],
   "source": [
    "def decompress(df):\n",
    "    \"\"\"\n",
    "    Decompresses a df. Removes the howMany column\n",
    "    by creating new rows of duplicate entries.\n",
    "    \"\"\"\n",
    "    \n",
    "    # This helper function returns a list with a length\n",
    "    # equal to the input number\n",
    "    _x = lambda x: [None for _ in range(int(x))]\n",
    "    df['howMany'] = df['howMany'].apply(_x)\n",
    "    # Explode to make the duplicate entries\n",
    "    df = df.explode('howMany')\n",
    "    df = df.drop('howMany', axis=1)\n",
    "    df = df.reset_index()\n",
    "    df = df.drop('index', axis=1)\n",
    "    return df"
   ]
  },
  {
   "cell_type": "code",
   "execution_count": 169,
   "id": "2ccd4abd-c0be-4347-8b05-c58aa6530e9a",
   "metadata": {},
   "outputs": [
    {
     "data": {
      "text/plain": [
       "comName\n",
       "California Gull     4613\n",
       "American Avocet     1543\n",
       "House Finch         1528\n",
       "Mallard             1363\n",
       "Canada Goose        1235\n",
       "                    ... \n",
       "Pacific Wren           1\n",
       "Wood Duck              1\n",
       "Western Gull           1\n",
       "Northern Pintail       1\n",
       "Rock Wren              1\n",
       "Name: count, Length: 176, dtype: int64"
      ]
     },
     "execution_count": 169,
     "metadata": {},
     "output_type": "execute_result"
    }
   ],
   "source": [
    "df = pd.read_csv('ebd_nearby.csv', index_col=0)\n",
    "df_d = decompress(df)\n",
    "df_d['comName'].value_counts()"
   ]
  }
 ],
 "metadata": {
  "kernelspec": {
   "display_name": "Python 3 (ipykernel)",
   "language": "python",
   "name": "python3"
  },
  "language_info": {
   "codemirror_mode": {
    "name": "ipython",
    "version": 3
   },
   "file_extension": ".py",
   "mimetype": "text/x-python",
   "name": "python",
   "nbconvert_exporter": "python",
   "pygments_lexer": "ipython3",
   "version": "3.11.5"
  }
 },
 "nbformat": 4,
 "nbformat_minor": 5
}
