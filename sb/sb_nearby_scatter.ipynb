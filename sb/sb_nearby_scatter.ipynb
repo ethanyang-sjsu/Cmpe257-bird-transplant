{
 "cells": [
  {
   "cell_type": "code",
   "execution_count": 111,
   "id": "2a19139d-c745-4d62-9813-4445bd4e32b8",
   "metadata": {},
   "outputs": [],
   "source": [
    "KEY_PATH = \"../ebird_api.key\"\n",
    "EBIRD_KEY = \"\"\n",
    "\n",
    "with open(KEY_PATH) as f:\n",
    "    EBIRD_KEY = f.read()\n",
    "_ = \"\"\"\n",
    "If you get an error (i.e. FileNotFoundError), that means you don't have the API\n",
    "key set up. You MUST request your own API key. It is intentionally excluded\n",
    "from the git repo (via gitignore).\n",
    "\"\"\""
   ]
  },
  {
   "cell_type": "code",
   "execution_count": 112,
   "id": "ea307ab8-46bf-49f3-8f67-9b951bf4d9e4",
   "metadata": {},
   "outputs": [],
   "source": [
    "import requests"
   ]
  },
  {
   "cell_type": "code",
   "execution_count": 113,
   "id": "91c17c3a-ffe3-4f6d-aa48-fe3d4d818395",
   "metadata": {},
   "outputs": [],
   "source": [
    "# San Jose, 37.33 N, 121.86 W\n",
    "url = \"https://api.ebird.org/v2/data/obs/geo/recent/amecro?lat=37.33&lng=-121.86\"\n",
    "\n",
    "payload= {}\n",
    "headers = {\n",
    "    'X-eBirdApiToken': EBIRD_KEY\n",
    "}\n",
    "\n",
    "response = requests.request(\"GET\", url, headers=headers, data=payload)"
   ]
  },
  {
   "cell_type": "code",
   "execution_count": 114,
   "id": "b4219a40-b4f4-45b4-bb9c-4b0f121cca38",
   "metadata": {},
   "outputs": [],
   "source": [
    "import pandas as pd\n",
    "import plotly.express as px"
   ]
  },
  {
   "cell_type": "code",
   "execution_count": 115,
   "id": "3991988f-6670-40d1-9e93-2698153216ba",
   "metadata": {},
   "outputs": [
    {
     "data": {
      "text/html": [
       "<div>\n",
       "<style scoped>\n",
       "    .dataframe tbody tr th:only-of-type {\n",
       "        vertical-align: middle;\n",
       "    }\n",
       "\n",
       "    .dataframe tbody tr th {\n",
       "        vertical-align: top;\n",
       "    }\n",
       "\n",
       "    .dataframe thead th {\n",
       "        text-align: right;\n",
       "    }\n",
       "</style>\n",
       "<table border=\"1\" class=\"dataframe\">\n",
       "  <thead>\n",
       "    <tr style=\"text-align: right;\">\n",
       "      <th></th>\n",
       "      <th>speciesCode</th>\n",
       "      <th>comName</th>\n",
       "      <th>sciName</th>\n",
       "      <th>locId</th>\n",
       "      <th>locName</th>\n",
       "      <th>obsDt</th>\n",
       "      <th>howMany</th>\n",
       "      <th>lat</th>\n",
       "      <th>lng</th>\n",
       "      <th>obsValid</th>\n",
       "      <th>obsReviewed</th>\n",
       "      <th>locationPrivate</th>\n",
       "      <th>subId</th>\n",
       "    </tr>\n",
       "  </thead>\n",
       "  <tbody>\n",
       "    <tr>\n",
       "      <th>0</th>\n",
       "      <td>amecro</td>\n",
       "      <td>American Crow</td>\n",
       "      <td>Corvus brachyrhynchos</td>\n",
       "      <td>L29329165</td>\n",
       "      <td>Monte Sereno</td>\n",
       "      <td>2025-07-12 08:45</td>\n",
       "      <td>1.0</td>\n",
       "      <td>37.234374</td>\n",
       "      <td>-121.984849</td>\n",
       "      <td>True</td>\n",
       "      <td>False</td>\n",
       "      <td>True</td>\n",
       "      <td>S259235802</td>\n",
       "    </tr>\n",
       "    <tr>\n",
       "      <th>1</th>\n",
       "      <td>amecro</td>\n",
       "      <td>American Crow</td>\n",
       "      <td>Corvus brachyrhynchos</td>\n",
       "      <td>L280388</td>\n",
       "      <td>Almaden Lake Park</td>\n",
       "      <td>2025-07-12 08:13</td>\n",
       "      <td>6.0</td>\n",
       "      <td>37.241590</td>\n",
       "      <td>-121.872710</td>\n",
       "      <td>True</td>\n",
       "      <td>False</td>\n",
       "      <td>False</td>\n",
       "      <td>S259236356</td>\n",
       "    </tr>\n",
       "    <tr>\n",
       "      <th>2</th>\n",
       "      <td>amecro</td>\n",
       "      <td>American Crow</td>\n",
       "      <td>Corvus brachyrhynchos</td>\n",
       "      <td>L16617941</td>\n",
       "      <td>20626 Scofield Dr, Cupertino US-CA 37.32085, -...</td>\n",
       "      <td>2025-07-12 07:54</td>\n",
       "      <td>2.0</td>\n",
       "      <td>37.320850</td>\n",
       "      <td>-122.034629</td>\n",
       "      <td>True</td>\n",
       "      <td>False</td>\n",
       "      <td>True</td>\n",
       "      <td>S259211295</td>\n",
       "    </tr>\n",
       "    <tr>\n",
       "      <th>3</th>\n",
       "      <td>amecro</td>\n",
       "      <td>American Crow</td>\n",
       "      <td>Corvus brachyrhynchos</td>\n",
       "      <td>L42743038</td>\n",
       "      <td>Muwekma Ohlone MS San Jose US-CA (37.3522,-121...</td>\n",
       "      <td>2025-07-12 07:17</td>\n",
       "      <td>11.0</td>\n",
       "      <td>37.352227</td>\n",
       "      <td>-121.899632</td>\n",
       "      <td>True</td>\n",
       "      <td>False</td>\n",
       "      <td>True</td>\n",
       "      <td>S259207312</td>\n",
       "    </tr>\n",
       "    <tr>\n",
       "      <th>4</th>\n",
       "      <td>amecro</td>\n",
       "      <td>American Crow</td>\n",
       "      <td>Corvus brachyrhynchos</td>\n",
       "      <td>L7988700</td>\n",
       "      <td>residence</td>\n",
       "      <td>2025-07-12 05:55</td>\n",
       "      <td>2.0</td>\n",
       "      <td>37.214113</td>\n",
       "      <td>-121.968058</td>\n",
       "      <td>True</td>\n",
       "      <td>False</td>\n",
       "      <td>True</td>\n",
       "      <td>S259182083</td>\n",
       "    </tr>\n",
       "  </tbody>\n",
       "</table>\n",
       "</div>"
      ],
      "text/plain": [
       "  speciesCode        comName                sciName      locId  \\\n",
       "0      amecro  American Crow  Corvus brachyrhynchos  L29329165   \n",
       "1      amecro  American Crow  Corvus brachyrhynchos    L280388   \n",
       "2      amecro  American Crow  Corvus brachyrhynchos  L16617941   \n",
       "3      amecro  American Crow  Corvus brachyrhynchos  L42743038   \n",
       "4      amecro  American Crow  Corvus brachyrhynchos   L7988700   \n",
       "\n",
       "                                             locName             obsDt  \\\n",
       "0                                       Monte Sereno  2025-07-12 08:45   \n",
       "1                                  Almaden Lake Park  2025-07-12 08:13   \n",
       "2  20626 Scofield Dr, Cupertino US-CA 37.32085, -...  2025-07-12 07:54   \n",
       "3  Muwekma Ohlone MS San Jose US-CA (37.3522,-121...  2025-07-12 07:17   \n",
       "4                                          residence  2025-07-12 05:55   \n",
       "\n",
       "   howMany        lat         lng  obsValid  obsReviewed  locationPrivate  \\\n",
       "0      1.0  37.234374 -121.984849      True        False             True   \n",
       "1      6.0  37.241590 -121.872710      True        False            False   \n",
       "2      2.0  37.320850 -122.034629      True        False             True   \n",
       "3     11.0  37.352227 -121.899632      True        False             True   \n",
       "4      2.0  37.214113 -121.968058      True        False             True   \n",
       "\n",
       "        subId  \n",
       "0  S259235802  \n",
       "1  S259236356  \n",
       "2  S259211295  \n",
       "3  S259207312  \n",
       "4  S259182083  "
      ]
     },
     "execution_count": 115,
     "metadata": {},
     "output_type": "execute_result"
    }
   ],
   "source": [
    "df = pd.read_json(response.text)\n",
    "df.head()"
   ]
  },
  {
   "cell_type": "code",
   "execution_count": 116,
   "id": "c975368e-d1c9-46bc-82c9-4af5ad573274",
   "metadata": {},
   "outputs": [],
   "source": [
    "# filter out the icky NaN data\n",
    "df_clean = df[df['howMany'] > 0]"
   ]
  },
  {
   "cell_type": "code",
   "execution_count": 117,
   "id": "e8adc1df-061c-4243-af17-92d21107f003",
   "metadata": {},
   "outputs": [
    {
     "data": {
      "application/vnd.plotly.v1+json": {
       "config": {
        "plotlyServerURL": "https://plot.ly"
       },
       "data": [
        {
         "hovertemplate": "howMany=%{marker.size}<br>lat=%{lat}<br>lng=%{lon}<extra></extra>",
         "lat": [
          37.2343738,
          37.2415899,
          37.32085,
          37.352227,
          37.2141126,
          37.3625966,
          37.2434163,
          37.468331,
          37.27096,
          37.2668019,
          37.4359191,
          37.2385116,
          37.2738854,
          37.3018307,
          37.2983402,
          37.2998206,
          37.3140655,
          37.4264055,
          37.3439932,
          37.2040986,
          37.413589,
          37.4277672,
          37.406652,
          37.336348,
          37.404993,
          37.4098061,
          37.432341,
          37.107668,
          37.3737015,
          37.4297255,
          37.23497,
          37.331076,
          37.2691242,
          37.286102,
          37.2301618,
          37.4457324,
          37.5104741,
          37.3359525,
          37.353588,
          37.2814488,
          37.171513,
          37.29399,
          37.4081759,
          37.43323,
          37.2347959,
          37.4060709,
          37.401997,
          37.2933962,
          37.2736533,
          37.3313343,
          37.3310026,
          37.4086988,
          37.333365,
          37.4088263,
          37.4367028,
          37.3897517,
          37.2972984,
          37.2810873,
          37.4416096,
          37.3327855,
          37.2651565,
          37.4309097,
          37.259168,
          37.3339351,
          37.3666176,
          37.4298107,
          37.320944,
          37.238187,
          37.3035707,
          37.2892628,
          37.5058789,
          37.294934,
          37.2622784,
          37.3058357,
          37.4057129,
          37.411557,
          37.324803,
          37.39657,
          37.3376529,
          37.2797035,
          37.1777947,
          37.4128753,
          37.310574,
          37.3924312,
          37.38916,
          37.229497,
          37.288478,
          37.4379296,
          37.4215375,
          37.2664712,
          37.3354711,
          37.1991629,
          37.3436434,
          37.398,
          37.27386,
          37.3567438,
          37.40517,
          37.2888382,
          37.320704,
          37.399306,
          37.222535,
          37.3646659,
          37.1871074,
          37.3897906,
          37.2906478,
          37.2451084,
          37.2480176,
          37.285765,
          37.3376923,
          37.4071793,
          37.3887768,
          37.4559362,
          37.4192471,
          37.328926,
          37.321328,
          37.4225748,
          37.313343,
          37.22956,
          37.515899,
          37.4402637,
          37.2910575,
          37.4199078,
          37.193518,
          37.4186077,
          37.355538,
          37.2381022,
          37.4292606,
          37.4198391,
          37.304007,
          37.3666641,
          37.4333361,
          37.4397696,
          37.2646825,
          37.4120211,
          37.272982,
          37.2409901,
          37.347199,
          37.3723977,
          37.3067953,
          37.2453957,
          37.344675,
          37.238708,
          37.338291,
          37.368448,
          37.409711,
          37.2976574,
          37.306304,
          37.3190471,
          37.4951201,
          37.18776,
          37.417659,
          37.2793458,
          37.371082,
          37.3413786,
          37.4334652,
          37.401013,
          37.4077588,
          37.41475,
          37.2309775,
          37.2892405,
          37.426752,
          37.402809,
          37.4286605,
          37.2767334,
          37.2742207,
          37.416863,
          37.4105182,
          37.3680416,
          37.4310174,
          37.288933,
          37.4020993,
          37.261111,
          37.1468571,
          37.337291,
          37.4092236,
          37.216205,
          37.2012444,
          37.2048486,
          37.290659,
          37.4298703,
          37.261359,
          37.439541,
          37.2977867,
          37.4297425,
          37.373905,
          37.216593
         ],
         "legendgroup": "",
         "lon": [
          -121.9848495,
          -121.8727098,
          -122.034629,
          -121.899632,
          -121.9680583,
          -122.0371413,
          -121.90396,
          -121.939219,
          -122.0028023,
          -122.0228219,
          -122.098918,
          -121.9709873,
          -121.9878652,
          -121.8002244,
          -122.0774242,
          -121.9288213,
          -122.0630121,
          -121.9790393,
          -121.9047475,
          -121.8057632,
          -121.939203,
          -121.8674433,
          -122.087664,
          -122.0008691,
          -122.0856064,
          -122.0966439,
          -122.0918369,
          -121.889521,
          -122.0634514,
          -121.9588315,
          -122.061926,
          -122.0932293,
          -121.9502,
          -121.939639,
          -122.0939451,
          -121.8471551,
          -121.8215202,
          -122.0913703,
          -121.905174,
          -121.7754455,
          -121.762477,
          -121.91037,
          -121.9817232,
          -121.966232,
          -121.9745439,
          -121.920712,
          -121.870147,
          -121.9049299,
          -121.9474697,
          -121.977548,
          -121.9258867,
          -121.9787625,
          -122.035056,
          -122.1036645,
          -122.0636845,
          -121.847021,
          -122.0827942,
          -121.8110847,
          -122.063427,
          -121.7124229,
          -122.0247958,
          -122.0660019,
          -121.943223,
          -121.8661063,
          -121.9488101,
          -122.0768111,
          -122.034762,
          -121.8899632,
          -122.0747271,
          -121.9368035,
          -121.814872,
          -122.081566,
          -121.9100876,
          -122.1275384,
          -121.9552374,
          -121.858663,
          -122.045774,
          -122.001575,
          -121.7149504,
          -122.0735604,
          -121.7687992,
          -121.9958747,
          -121.888045,
          -121.8375721,
          -122.086302,
          -121.977578,
          -121.938488,
          -122.0886612,
          -122.0243955,
          -121.9515038,
          -121.8062038,
          -122.0620698,
          -121.7172099,
          -121.991,
          -121.911275,
          -122.0687663,
          -122.08974,
          -122.0845842,
          -122.03491,
          -121.858338,
          -121.955013,
          -122.0307148,
          -121.7367554,
          -122.0436148,
          -122.0804377,
          -121.813909,
          -121.8728828,
          -121.944738,
          -121.9493409,
          -122.1069793,
          -122.0437288,
          -121.8632054,
          -122.0714012,
          -121.716117,
          -121.947929,
          -122.0821655,
          -122.0503109,
          -121.977683,
          -121.8318051,
          -121.9131696,
          -121.9100046,
          -122.0202327,
          -121.806803,
          -122.0807853,
          -121.999811,
          -121.8708828,
          -121.9804312,
          -122.0144261,
          -122.008162,
          -122.0821944,
          -122.0849276,
          -122.1014071,
          -122.0030208,
          -121.9796522,
          -122.052563,
          -121.8826861,
          -121.953402,
          -122.0809901,
          -122.0731473,
          -121.9695711,
          -122.042376,
          -122.0690382,
          -122.086834,
          -122.061703,
          -122.022703,
          -121.9858342,
          -122.073453,
          -122.0483072,
          -121.9796026,
          -121.77645,
          -121.970077,
          -121.9267416,
          -122.067149,
          -121.9294847,
          -121.9614815,
          -122.096582,
          -122.0983261,
          -121.9971795,
          -121.9191456,
          -122.0049334,
          -122.0223999,
          -121.946018,
          -122.0139885,
          -121.9843843,
          -122.0258016,
          -121.928998,
          -121.7990034,
          -122.0609422,
          -122.095066,
          -121.924008,
          -121.9460213,
          -121.9535519,
          -121.7754865,
          -122.087471,
          -122.1000736,
          -121.848446,
          -121.9905674,
          -121.8155522,
          -121.915437,
          -121.9793612,
          -122.041297,
          -122.0969892,
          -121.7690816,
          -121.962254,
          -122.056296,
          -121.988081
         ],
         "marker": {
          "color": "#636efa",
          "size": [
           1,
           6,
           2,
           11,
           2,
           2,
           5,
           3,
           1,
           2,
           4,
           4,
           2,
           3,
           9,
           2,
           2,
           6,
           22,
           7,
           3,
           9,
           3,
           2,
           11,
           3,
           2,
           2,
           2,
           3,
           3,
           1,
           1,
           4,
           1,
           2,
           4,
           2,
           2,
           1,
           2,
           2,
           14,
           2,
           3,
           3,
           5,
           2,
           9,
           1,
           3,
           2,
           4,
           3,
           2,
           1,
           2,
           2,
           1,
           2,
           2,
           17,
           8,
           1,
           2,
           3,
           2,
           1,
           2,
           3,
           1,
           5,
           2,
           2,
           10,
           2,
           2,
           12,
           4,
           3,
           8,
           5,
           1,
           1,
           2,
           1,
           2,
           2,
           1,
           8,
           1,
           1,
           2,
           2,
           1,
           2,
           4,
           10,
           4,
           9,
           4,
           4,
           2,
           3,
           3,
           1,
           1,
           5,
           2,
           1,
           3,
           3,
           3,
           3,
           1,
           18,
           3,
           1,
           4,
           5,
           2,
           6,
           20,
           8,
           2,
           1,
           1,
           8,
           1,
           3,
           1,
           2,
           1,
           3,
           6,
           1,
           2,
           1,
           5,
           12,
           4,
           2,
           2,
           7,
           22,
           2,
           1,
           2,
           6,
           22,
           1,
           5,
           3,
           3,
           5,
           9,
           5,
           1,
           3,
           1,
           4,
           1,
           4,
           6,
           2,
           5,
           2,
           3,
           5,
           5,
           7,
           1,
           3,
           1,
           2,
           2,
           8,
           2,
           2,
           7,
           7,
           1,
           4,
           1,
           1,
           7
          ],
          "sizemode": "area",
          "sizeref": 0.055
         },
         "mode": "markers",
         "name": "",
         "showlegend": false,
         "subplot": "mapbox",
         "type": "scattermapbox"
        }
       ],
       "layout": {
        "autosize": true,
        "legend": {
         "itemsizing": "constant",
         "tracegroupgap": 0
        },
        "mapbox": {
         "bearing": 0,
         "center": {
          "lat": 37.307475204547615,
          "lon": -121.93394483560832
         },
         "domain": {
          "x": [
           0,
           1
          ],
          "y": [
           0,
           1
          ]
         },
         "pitch": 0,
         "style": "open-street-map",
         "zoom": 7.889222423284499
        },
        "margin": {
         "t": 60
        },
        "template": {
         "data": {
          "bar": [
           {
            "error_x": {
             "color": "#2a3f5f"
            },
            "error_y": {
             "color": "#2a3f5f"
            },
            "marker": {
             "line": {
              "color": "#E5ECF6",
              "width": 0.5
             },
             "pattern": {
              "fillmode": "overlay",
              "size": 10,
              "solidity": 0.2
             }
            },
            "type": "bar"
           }
          ],
          "barpolar": [
           {
            "marker": {
             "line": {
              "color": "#E5ECF6",
              "width": 0.5
             },
             "pattern": {
              "fillmode": "overlay",
              "size": 10,
              "solidity": 0.2
             }
            },
            "type": "barpolar"
           }
          ],
          "carpet": [
           {
            "aaxis": {
             "endlinecolor": "#2a3f5f",
             "gridcolor": "white",
             "linecolor": "white",
             "minorgridcolor": "white",
             "startlinecolor": "#2a3f5f"
            },
            "baxis": {
             "endlinecolor": "#2a3f5f",
             "gridcolor": "white",
             "linecolor": "white",
             "minorgridcolor": "white",
             "startlinecolor": "#2a3f5f"
            },
            "type": "carpet"
           }
          ],
          "choropleth": [
           {
            "colorbar": {
             "outlinewidth": 0,
             "ticks": ""
            },
            "type": "choropleth"
           }
          ],
          "contour": [
           {
            "colorbar": {
             "outlinewidth": 0,
             "ticks": ""
            },
            "colorscale": [
             [
              0,
              "#0d0887"
             ],
             [
              0.1111111111111111,
              "#46039f"
             ],
             [
              0.2222222222222222,
              "#7201a8"
             ],
             [
              0.3333333333333333,
              "#9c179e"
             ],
             [
              0.4444444444444444,
              "#bd3786"
             ],
             [
              0.5555555555555556,
              "#d8576b"
             ],
             [
              0.6666666666666666,
              "#ed7953"
             ],
             [
              0.7777777777777778,
              "#fb9f3a"
             ],
             [
              0.8888888888888888,
              "#fdca26"
             ],
             [
              1,
              "#f0f921"
             ]
            ],
            "type": "contour"
           }
          ],
          "contourcarpet": [
           {
            "colorbar": {
             "outlinewidth": 0,
             "ticks": ""
            },
            "type": "contourcarpet"
           }
          ],
          "heatmap": [
           {
            "colorbar": {
             "outlinewidth": 0,
             "ticks": ""
            },
            "colorscale": [
             [
              0,
              "#0d0887"
             ],
             [
              0.1111111111111111,
              "#46039f"
             ],
             [
              0.2222222222222222,
              "#7201a8"
             ],
             [
              0.3333333333333333,
              "#9c179e"
             ],
             [
              0.4444444444444444,
              "#bd3786"
             ],
             [
              0.5555555555555556,
              "#d8576b"
             ],
             [
              0.6666666666666666,
              "#ed7953"
             ],
             [
              0.7777777777777778,
              "#fb9f3a"
             ],
             [
              0.8888888888888888,
              "#fdca26"
             ],
             [
              1,
              "#f0f921"
             ]
            ],
            "type": "heatmap"
           }
          ],
          "heatmapgl": [
           {
            "colorbar": {
             "outlinewidth": 0,
             "ticks": ""
            },
            "colorscale": [
             [
              0,
              "#0d0887"
             ],
             [
              0.1111111111111111,
              "#46039f"
             ],
             [
              0.2222222222222222,
              "#7201a8"
             ],
             [
              0.3333333333333333,
              "#9c179e"
             ],
             [
              0.4444444444444444,
              "#bd3786"
             ],
             [
              0.5555555555555556,
              "#d8576b"
             ],
             [
              0.6666666666666666,
              "#ed7953"
             ],
             [
              0.7777777777777778,
              "#fb9f3a"
             ],
             [
              0.8888888888888888,
              "#fdca26"
             ],
             [
              1,
              "#f0f921"
             ]
            ],
            "type": "heatmapgl"
           }
          ],
          "histogram": [
           {
            "marker": {
             "pattern": {
              "fillmode": "overlay",
              "size": 10,
              "solidity": 0.2
             }
            },
            "type": "histogram"
           }
          ],
          "histogram2d": [
           {
            "colorbar": {
             "outlinewidth": 0,
             "ticks": ""
            },
            "colorscale": [
             [
              0,
              "#0d0887"
             ],
             [
              0.1111111111111111,
              "#46039f"
             ],
             [
              0.2222222222222222,
              "#7201a8"
             ],
             [
              0.3333333333333333,
              "#9c179e"
             ],
             [
              0.4444444444444444,
              "#bd3786"
             ],
             [
              0.5555555555555556,
              "#d8576b"
             ],
             [
              0.6666666666666666,
              "#ed7953"
             ],
             [
              0.7777777777777778,
              "#fb9f3a"
             ],
             [
              0.8888888888888888,
              "#fdca26"
             ],
             [
              1,
              "#f0f921"
             ]
            ],
            "type": "histogram2d"
           }
          ],
          "histogram2dcontour": [
           {
            "colorbar": {
             "outlinewidth": 0,
             "ticks": ""
            },
            "colorscale": [
             [
              0,
              "#0d0887"
             ],
             [
              0.1111111111111111,
              "#46039f"
             ],
             [
              0.2222222222222222,
              "#7201a8"
             ],
             [
              0.3333333333333333,
              "#9c179e"
             ],
             [
              0.4444444444444444,
              "#bd3786"
             ],
             [
              0.5555555555555556,
              "#d8576b"
             ],
             [
              0.6666666666666666,
              "#ed7953"
             ],
             [
              0.7777777777777778,
              "#fb9f3a"
             ],
             [
              0.8888888888888888,
              "#fdca26"
             ],
             [
              1,
              "#f0f921"
             ]
            ],
            "type": "histogram2dcontour"
           }
          ],
          "mesh3d": [
           {
            "colorbar": {
             "outlinewidth": 0,
             "ticks": ""
            },
            "type": "mesh3d"
           }
          ],
          "parcoords": [
           {
            "line": {
             "colorbar": {
              "outlinewidth": 0,
              "ticks": ""
             }
            },
            "type": "parcoords"
           }
          ],
          "pie": [
           {
            "automargin": true,
            "type": "pie"
           }
          ],
          "scatter": [
           {
            "fillpattern": {
             "fillmode": "overlay",
             "size": 10,
             "solidity": 0.2
            },
            "type": "scatter"
           }
          ],
          "scatter3d": [
           {
            "line": {
             "colorbar": {
              "outlinewidth": 0,
              "ticks": ""
             }
            },
            "marker": {
             "colorbar": {
              "outlinewidth": 0,
              "ticks": ""
             }
            },
            "type": "scatter3d"
           }
          ],
          "scattercarpet": [
           {
            "marker": {
             "colorbar": {
              "outlinewidth": 0,
              "ticks": ""
             }
            },
            "type": "scattercarpet"
           }
          ],
          "scattergeo": [
           {
            "marker": {
             "colorbar": {
              "outlinewidth": 0,
              "ticks": ""
             }
            },
            "type": "scattergeo"
           }
          ],
          "scattergl": [
           {
            "marker": {
             "colorbar": {
              "outlinewidth": 0,
              "ticks": ""
             }
            },
            "type": "scattergl"
           }
          ],
          "scattermapbox": [
           {
            "marker": {
             "colorbar": {
              "outlinewidth": 0,
              "ticks": ""
             }
            },
            "type": "scattermapbox"
           }
          ],
          "scatterpolar": [
           {
            "marker": {
             "colorbar": {
              "outlinewidth": 0,
              "ticks": ""
             }
            },
            "type": "scatterpolar"
           }
          ],
          "scatterpolargl": [
           {
            "marker": {
             "colorbar": {
              "outlinewidth": 0,
              "ticks": ""
             }
            },
            "type": "scatterpolargl"
           }
          ],
          "scatterternary": [
           {
            "marker": {
             "colorbar": {
              "outlinewidth": 0,
              "ticks": ""
             }
            },
            "type": "scatterternary"
           }
          ],
          "surface": [
           {
            "colorbar": {
             "outlinewidth": 0,
             "ticks": ""
            },
            "colorscale": [
             [
              0,
              "#0d0887"
             ],
             [
              0.1111111111111111,
              "#46039f"
             ],
             [
              0.2222222222222222,
              "#7201a8"
             ],
             [
              0.3333333333333333,
              "#9c179e"
             ],
             [
              0.4444444444444444,
              "#bd3786"
             ],
             [
              0.5555555555555556,
              "#d8576b"
             ],
             [
              0.6666666666666666,
              "#ed7953"
             ],
             [
              0.7777777777777778,
              "#fb9f3a"
             ],
             [
              0.8888888888888888,
              "#fdca26"
             ],
             [
              1,
              "#f0f921"
             ]
            ],
            "type": "surface"
           }
          ],
          "table": [
           {
            "cells": {
             "fill": {
              "color": "#EBF0F8"
             },
             "line": {
              "color": "white"
             }
            },
            "header": {
             "fill": {
              "color": "#C8D4E3"
             },
             "line": {
              "color": "white"
             }
            },
            "type": "table"
           }
          ]
         },
         "layout": {
          "annotationdefaults": {
           "arrowcolor": "#2a3f5f",
           "arrowhead": 0,
           "arrowwidth": 1
          },
          "autotypenumbers": "strict",
          "coloraxis": {
           "colorbar": {
            "outlinewidth": 0,
            "ticks": ""
           }
          },
          "colorscale": {
           "diverging": [
            [
             0,
             "#8e0152"
            ],
            [
             0.1,
             "#c51b7d"
            ],
            [
             0.2,
             "#de77ae"
            ],
            [
             0.3,
             "#f1b6da"
            ],
            [
             0.4,
             "#fde0ef"
            ],
            [
             0.5,
             "#f7f7f7"
            ],
            [
             0.6,
             "#e6f5d0"
            ],
            [
             0.7,
             "#b8e186"
            ],
            [
             0.8,
             "#7fbc41"
            ],
            [
             0.9,
             "#4d9221"
            ],
            [
             1,
             "#276419"
            ]
           ],
           "sequential": [
            [
             0,
             "#0d0887"
            ],
            [
             0.1111111111111111,
             "#46039f"
            ],
            [
             0.2222222222222222,
             "#7201a8"
            ],
            [
             0.3333333333333333,
             "#9c179e"
            ],
            [
             0.4444444444444444,
             "#bd3786"
            ],
            [
             0.5555555555555556,
             "#d8576b"
            ],
            [
             0.6666666666666666,
             "#ed7953"
            ],
            [
             0.7777777777777778,
             "#fb9f3a"
            ],
            [
             0.8888888888888888,
             "#fdca26"
            ],
            [
             1,
             "#f0f921"
            ]
           ],
           "sequentialminus": [
            [
             0,
             "#0d0887"
            ],
            [
             0.1111111111111111,
             "#46039f"
            ],
            [
             0.2222222222222222,
             "#7201a8"
            ],
            [
             0.3333333333333333,
             "#9c179e"
            ],
            [
             0.4444444444444444,
             "#bd3786"
            ],
            [
             0.5555555555555556,
             "#d8576b"
            ],
            [
             0.6666666666666666,
             "#ed7953"
            ],
            [
             0.7777777777777778,
             "#fb9f3a"
            ],
            [
             0.8888888888888888,
             "#fdca26"
            ],
            [
             1,
             "#f0f921"
            ]
           ]
          },
          "colorway": [
           "#636efa",
           "#EF553B",
           "#00cc96",
           "#ab63fa",
           "#FFA15A",
           "#19d3f3",
           "#FF6692",
           "#B6E880",
           "#FF97FF",
           "#FECB52"
          ],
          "font": {
           "color": "#2a3f5f"
          },
          "geo": {
           "bgcolor": "white",
           "lakecolor": "white",
           "landcolor": "#E5ECF6",
           "showlakes": true,
           "showland": true,
           "subunitcolor": "white"
          },
          "hoverlabel": {
           "align": "left"
          },
          "hovermode": "closest",
          "mapbox": {
           "style": "light"
          },
          "paper_bgcolor": "white",
          "plot_bgcolor": "#E5ECF6",
          "polar": {
           "angularaxis": {
            "gridcolor": "white",
            "linecolor": "white",
            "ticks": ""
           },
           "bgcolor": "#E5ECF6",
           "radialaxis": {
            "gridcolor": "white",
            "linecolor": "white",
            "ticks": ""
           }
          },
          "scene": {
           "xaxis": {
            "backgroundcolor": "#E5ECF6",
            "gridcolor": "white",
            "gridwidth": 2,
            "linecolor": "white",
            "showbackground": true,
            "ticks": "",
            "zerolinecolor": "white"
           },
           "yaxis": {
            "backgroundcolor": "#E5ECF6",
            "gridcolor": "white",
            "gridwidth": 2,
            "linecolor": "white",
            "showbackground": true,
            "ticks": "",
            "zerolinecolor": "white"
           },
           "zaxis": {
            "backgroundcolor": "#E5ECF6",
            "gridcolor": "white",
            "gridwidth": 2,
            "linecolor": "white",
            "showbackground": true,
            "ticks": "",
            "zerolinecolor": "white"
           }
          },
          "shapedefaults": {
           "line": {
            "color": "#2a3f5f"
           }
          },
          "ternary": {
           "aaxis": {
            "gridcolor": "white",
            "linecolor": "white",
            "ticks": ""
           },
           "baxis": {
            "gridcolor": "white",
            "linecolor": "white",
            "ticks": ""
           },
           "bgcolor": "#E5ECF6",
           "caxis": {
            "gridcolor": "white",
            "linecolor": "white",
            "ticks": ""
           }
          },
          "title": {
           "x": 0.05
          },
          "xaxis": {
           "automargin": true,
           "gridcolor": "white",
           "linecolor": "white",
           "ticks": "",
           "title": {
            "standoff": 15
           },
           "zerolinecolor": "white",
           "zerolinewidth": 2
          },
          "yaxis": {
           "automargin": true,
           "gridcolor": "white",
           "linecolor": "white",
           "ticks": "",
           "title": {
            "standoff": 15
           },
           "zerolinecolor": "white",
           "zerolinewidth": 2
          }
         }
        }
       }
      },
      "image/png": "[encoded data removed]",
      "text/html": [
       "<div>                            <div id=\"c3dd9755-3bf4-4b8a-bc16-d19c7dfd2a48\" class=\"plotly-graph-div\" style=\"height:525px; width:100%;\"></div>            <script type=\"text/javascript\">                require([\"plotly\"], function(Plotly) {                    window.PLOTLYENV=window.PLOTLYENV || {};                                    if (document.getElementById(\"c3dd9755-3bf4-4b8a-bc16-d19c7dfd2a48\")) {                    Plotly.newPlot(                        \"c3dd9755-3bf4-4b8a-bc16-d19c7dfd2a48\",                        [{\"hovertemplate\":\"howMany=%{marker.size}<br>lat=%{lat}<br>lng=%{lon}<extra></extra>\",\"lat\":[37.2343738,37.2415899,37.32085,37.352227,37.2141126,37.3625966,37.2434163,37.468331,37.27096,37.2668019,37.4359191,37.2385116,37.2738854,37.3018307,37.2983402,37.2998206,37.3140655,37.4264055,37.3439932,37.2040986,37.413589,37.4277672,37.406652,37.336348,37.404993,37.4098061,37.432341,37.107668,37.3737015,37.4297255,37.23497,37.331076,37.2691242,37.286102,37.2301618,37.4457324,37.5104741,37.3359525,37.353588,37.2814488,37.171513,37.29399,37.4081759,37.43323,37.2347959,37.4060709,37.401997,37.2933962,37.2736533,37.3313343,37.3310026,37.4086988,37.333365,37.4088263,37.4367028,37.3897517,37.2972984,37.2810873,37.4416096,37.3327855,37.2651565,37.4309097,37.259168,37.3339351,37.3666176,37.4298107,37.320944,37.238187,37.3035707,37.2892628,37.5058789,37.294934,37.2622784,37.3058357,37.4057129,37.411557,37.324803,37.39657,37.3376529,37.2797035,37.1777947,37.4128753,37.310574,37.3924312,37.38916,37.229497,37.288478,37.4379296,37.4215375,37.2664712,37.3354711,37.1991629,37.3436434,37.398,37.27386,37.3567438,37.40517,37.2888382,37.320704,37.399306,37.222535,37.3646659,37.1871074,37.3897906,37.2906478,37.2451084,37.2480176,37.285765,37.3376923,37.4071793,37.3887768,37.4559362,37.4192471,37.328926,37.321328,37.4225748,37.313343,37.22956,37.515899,37.4402637,37.2910575,37.4199078,37.193518,37.4186077,37.355538,37.2381022,37.4292606,37.4198391,37.304007,37.3666641,37.4333361,37.4397696,37.2646825,37.4120211,37.272982,37.2409901,37.347199,37.3723977,37.3067953,37.2453957,37.344675,37.238708,37.338291,37.368448,37.409711,37.2976574,37.306304,37.3190471,37.4951201,37.18776,37.417659,37.2793458,37.371082,37.3413786,37.4334652,37.401013,37.4077588,37.41475,37.2309775,37.2892405,37.426752,37.402809,37.4286605,37.2767334,37.2742207,37.416863,37.4105182,37.3680416,37.4310174,37.288933,37.4020993,37.261111,37.1468571,37.337291,37.4092236,37.216205,37.2012444,37.2048486,37.290659,37.4298703,37.261359,37.439541,37.2977867,37.4297425,37.373905,37.216593],\"legendgroup\":\"\",\"lon\":[-121.9848495,-121.8727098,-122.034629,-121.899632,-121.9680583,-122.0371413,-121.90396,-121.939219,-122.0028023,-122.0228219,-122.098918,-121.9709873,-121.9878652,-121.8002244,-122.0774242,-121.9288213,-122.0630121,-121.9790393,-121.9047475,-121.8057632,-121.939203,-121.8674433,-122.087664,-122.0008691,-122.0856064,-122.0966439,-122.0918369,-121.889521,-122.0634514,-121.9588315,-122.061926,-122.0932293,-121.9502,-121.939639,-122.0939451,-121.8471551,-121.8215202,-122.0913703,-121.905174,-121.7754455,-121.762477,-121.91037,-121.9817232,-121.966232,-121.9745439,-121.920712,-121.870147,-121.9049299,-121.9474697,-121.977548,-121.9258867,-121.9787625,-122.035056,-122.1036645,-122.0636845,-121.847021,-122.0827942,-121.8110847,-122.063427,-121.7124229,-122.0247958,-122.0660019,-121.943223,-121.8661063,-121.9488101,-122.0768111,-122.034762,-121.8899632,-122.0747271,-121.9368035,-121.814872,-122.081566,-121.9100876,-122.1275384,-121.9552374,-121.858663,-122.045774,-122.001575,-121.7149504,-122.0735604,-121.7687992,-121.9958747,-121.888045,-121.8375721,-122.086302,-121.977578,-121.938488,-122.0886612,-122.0243955,-121.9515038,-121.8062038,-122.0620698,-121.7172099,-121.991,-121.911275,-122.0687663,-122.08974,-122.0845842,-122.03491,-121.858338,-121.955013,-122.0307148,-121.7367554,-122.0436148,-122.0804377,-121.813909,-121.8728828,-121.944738,-121.9493409,-122.1069793,-122.0437288,-121.8632054,-122.0714012,-121.716117,-121.947929,-122.0821655,-122.0503109,-121.977683,-121.8318051,-121.9131696,-121.9100046,-122.0202327,-121.806803,-122.0807853,-121.999811,-121.8708828,-121.9804312,-122.0144261,-122.008162,-122.0821944,-122.0849276,-122.1014071,-122.0030208,-121.9796522,-122.052563,-121.8826861,-121.953402,-122.0809901,-122.0731473,-121.9695711,-122.042376,-122.0690382,-122.086834,-122.061703,-122.022703,-121.9858342,-122.073453,-122.0483072,-121.9796026,-121.77645,-121.970077,-121.9267416,-122.067149,-121.9294847,-121.9614815,-122.096582,-122.0983261,-121.9971795,-121.9191456,-122.0049334,-122.0223999,-121.946018,-122.0139885,-121.9843843,-122.0258016,-121.928998,-121.7990034,-122.0609422,-122.095066,-121.924008,-121.9460213,-121.9535519,-121.7754865,-122.087471,-122.1000736,-121.848446,-121.9905674,-121.8155522,-121.915437,-121.9793612,-122.041297,-122.0969892,-121.7690816,-121.962254,-122.056296,-121.988081],\"marker\":{\"color\":\"#636efa\",\"size\":[1.0,6.0,2.0,11.0,2.0,2.0,5.0,3.0,1.0,2.0,4.0,4.0,2.0,3.0,9.0,2.0,2.0,6.0,22.0,7.0,3.0,9.0,3.0,2.0,11.0,3.0,2.0,2.0,2.0,3.0,3.0,1.0,1.0,4.0,1.0,2.0,4.0,2.0,2.0,1.0,2.0,2.0,14.0,2.0,3.0,3.0,5.0,2.0,9.0,1.0,3.0,2.0,4.0,3.0,2.0,1.0,2.0,2.0,1.0,2.0,2.0,17.0,8.0,1.0,2.0,3.0,2.0,1.0,2.0,3.0,1.0,5.0,2.0,2.0,10.0,2.0,2.0,12.0,4.0,3.0,8.0,5.0,1.0,1.0,2.0,1.0,2.0,2.0,1.0,8.0,1.0,1.0,2.0,2.0,1.0,2.0,4.0,10.0,4.0,9.0,4.0,4.0,2.0,3.0,3.0,1.0,1.0,5.0,2.0,1.0,3.0,3.0,3.0,3.0,1.0,18.0,3.0,1.0,4.0,5.0,2.0,6.0,20.0,8.0,2.0,1.0,1.0,8.0,1.0,3.0,1.0,2.0,1.0,3.0,6.0,1.0,2.0,1.0,5.0,12.0,4.0,2.0,2.0,7.0,22.0,2.0,1.0,2.0,6.0,22.0,1.0,5.0,3.0,3.0,5.0,9.0,5.0,1.0,3.0,1.0,4.0,1.0,4.0,6.0,2.0,5.0,2.0,3.0,5.0,5.0,7.0,1.0,3.0,1.0,2.0,2.0,8.0,2.0,2.0,7.0,7.0,1.0,4.0,1.0,1.0,7.0],\"sizemode\":\"area\",\"sizeref\":0.055},\"mode\":\"markers\",\"name\":\"\",\"showlegend\":false,\"subplot\":\"mapbox\",\"type\":\"scattermapbox\"}],                        {\"template\":{\"data\":{\"histogram2dcontour\":[{\"type\":\"histogram2dcontour\",\"colorbar\":{\"outlinewidth\":0,\"ticks\":\"\"},\"colorscale\":[[0.0,\"#0d0887\"],[0.1111111111111111,\"#46039f\"],[0.2222222222222222,\"#7201a8\"],[0.3333333333333333,\"#9c179e\"],[0.4444444444444444,\"#bd3786\"],[0.5555555555555556,\"#d8576b\"],[0.6666666666666666,\"#ed7953\"],[0.7777777777777778,\"#fb9f3a\"],[0.8888888888888888,\"#fdca26\"],[1.0,\"#f0f921\"]]}],\"choropleth\":[{\"type\":\"choropleth\",\"colorbar\":{\"outlinewidth\":0,\"ticks\":\"\"}}],\"histogram2d\":[{\"type\":\"histogram2d\",\"colorbar\":{\"outlinewidth\":0,\"ticks\":\"\"},\"colorscale\":[[0.0,\"#0d0887\"],[0.1111111111111111,\"#46039f\"],[0.2222222222222222,\"#7201a8\"],[0.3333333333333333,\"#9c179e\"],[0.4444444444444444,\"#bd3786\"],[0.5555555555555556,\"#d8576b\"],[0.6666666666666666,\"#ed7953\"],[0.7777777777777778,\"#fb9f3a\"],[0.8888888888888888,\"#fdca26\"],[1.0,\"#f0f921\"]]}],\"heatmap\":[{\"type\":\"heatmap\",\"colorbar\":{\"outlinewidth\":0,\"ticks\":\"\"},\"colorscale\":[[0.0,\"#0d0887\"],[0.1111111111111111,\"#46039f\"],[0.2222222222222222,\"#7201a8\"],[0.3333333333333333,\"#9c179e\"],[0.4444444444444444,\"#bd3786\"],[0.5555555555555556,\"#d8576b\"],[0.6666666666666666,\"#ed7953\"],[0.7777777777777778,\"#fb9f3a\"],[0.8888888888888888,\"#fdca26\"],[1.0,\"#f0f921\"]]}],\"heatmapgl\":[{\"type\":\"heatmapgl\",\"colorbar\":{\"outlinewidth\":0,\"ticks\":\"\"},\"colorscale\":[[0.0,\"#0d0887\"],[0.1111111111111111,\"#46039f\"],[0.2222222222222222,\"#7201a8\"],[0.3333333333333333,\"#9c179e\"],[0.4444444444444444,\"#bd3786\"],[0.5555555555555556,\"#d8576b\"],[0.6666666666666666,\"#ed7953\"],[0.7777777777777778,\"#fb9f3a\"],[0.8888888888888888,\"#fdca26\"],[1.0,\"#f0f921\"]]}],\"contourcarpet\":[{\"type\":\"contourcarpet\",\"colorbar\":{\"outlinewidth\":0,\"ticks\":\"\"}}],\"contour\":[{\"type\":\"contour\",\"colorbar\":{\"outlinewidth\":0,\"ticks\":\"\"},\"colorscale\":[[0.0,\"#0d0887\"],[0.1111111111111111,\"#46039f\"],[0.2222222222222222,\"#7201a8\"],[0.3333333333333333,\"#9c179e\"],[0.4444444444444444,\"#bd3786\"],[0.5555555555555556,\"#d8576b\"],[0.6666666666666666,\"#ed7953\"],[0.7777777777777778,\"#fb9f3a\"],[0.8888888888888888,\"#fdca26\"],[1.0,\"#f0f921\"]]}],\"surface\":[{\"type\":\"surface\",\"colorbar\":{\"outlinewidth\":0,\"ticks\":\"\"},\"colorscale\":[[0.0,\"#0d0887\"],[0.1111111111111111,\"#46039f\"],[0.2222222222222222,\"#7201a8\"],[0.3333333333333333,\"#9c179e\"],[0.4444444444444444,\"#bd3786\"],[0.5555555555555556,\"#d8576b\"],[0.6666666666666666,\"#ed7953\"],[0.7777777777777778,\"#fb9f3a\"],[0.8888888888888888,\"#fdca26\"],[1.0,\"#f0f921\"]]}],\"mesh3d\":[{\"type\":\"mesh3d\",\"colorbar\":{\"outlinewidth\":0,\"ticks\":\"\"}}],\"scatter\":[{\"fillpattern\":{\"fillmode\":\"overlay\",\"size\":10,\"solidity\":0.2},\"type\":\"scatter\"}],\"parcoords\":[{\"type\":\"parcoords\",\"line\":{\"colorbar\":{\"outlinewidth\":0,\"ticks\":\"\"}}}],\"scatterpolargl\":[{\"type\":\"scatterpolargl\",\"marker\":{\"colorbar\":{\"outlinewidth\":0,\"ticks\":\"\"}}}],\"bar\":[{\"error_x\":{\"color\":\"#2a3f5f\"},\"error_y\":{\"color\":\"#2a3f5f\"},\"marker\":{\"line\":{\"color\":\"#E5ECF6\",\"width\":0.5},\"pattern\":{\"fillmode\":\"overlay\",\"size\":10,\"solidity\":0.2}},\"type\":\"bar\"}],\"scattergeo\":[{\"type\":\"scattergeo\",\"marker\":{\"colorbar\":{\"outlinewidth\":0,\"ticks\":\"\"}}}],\"scatterpolar\":[{\"type\":\"scatterpolar\",\"marker\":{\"colorbar\":{\"outlinewidth\":0,\"ticks\":\"\"}}}],\"histogram\":[{\"marker\":{\"pattern\":{\"fillmode\":\"overlay\",\"size\":10,\"solidity\":0.2}},\"type\":\"histogram\"}],\"scattergl\":[{\"type\":\"scattergl\",\"marker\":{\"colorbar\":{\"outlinewidth\":0,\"ticks\":\"\"}}}],\"scatter3d\":[{\"type\":\"scatter3d\",\"line\":{\"colorbar\":{\"outlinewidth\":0,\"ticks\":\"\"}},\"marker\":{\"colorbar\":{\"outlinewidth\":0,\"ticks\":\"\"}}}],\"scattermapbox\":[{\"type\":\"scattermapbox\",\"marker\":{\"colorbar\":{\"outlinewidth\":0,\"ticks\":\"\"}}}],\"scatterternary\":[{\"type\":\"scatterternary\",\"marker\":{\"colorbar\":{\"outlinewidth\":0,\"ticks\":\"\"}}}],\"scattercarpet\":[{\"type\":\"scattercarpet\",\"marker\":{\"colorbar\":{\"outlinewidth\":0,\"ticks\":\"\"}}}],\"carpet\":[{\"aaxis\":{\"endlinecolor\":\"#2a3f5f\",\"gridcolor\":\"white\",\"linecolor\":\"white\",\"minorgridcolor\":\"white\",\"startlinecolor\":\"#2a3f5f\"},\"baxis\":{\"endlinecolor\":\"#2a3f5f\",\"gridcolor\":\"white\",\"linecolor\":\"white\",\"minorgridcolor\":\"white\",\"startlinecolor\":\"#2a3f5f\"},\"type\":\"carpet\"}],\"table\":[{\"cells\":{\"fill\":{\"color\":\"#EBF0F8\"},\"line\":{\"color\":\"white\"}},\"header\":{\"fill\":{\"color\":\"#C8D4E3\"},\"line\":{\"color\":\"white\"}},\"type\":\"table\"}],\"barpolar\":[{\"marker\":{\"line\":{\"color\":\"#E5ECF6\",\"width\":0.5},\"pattern\":{\"fillmode\":\"overlay\",\"size\":10,\"solidity\":0.2}},\"type\":\"barpolar\"}],\"pie\":[{\"automargin\":true,\"type\":\"pie\"}]},\"layout\":{\"autotypenumbers\":\"strict\",\"colorway\":[\"#636efa\",\"#EF553B\",\"#00cc96\",\"#ab63fa\",\"#FFA15A\",\"#19d3f3\",\"#FF6692\",\"#B6E880\",\"#FF97FF\",\"#FECB52\"],\"font\":{\"color\":\"#2a3f5f\"},\"hovermode\":\"closest\",\"hoverlabel\":{\"align\":\"left\"},\"paper_bgcolor\":\"white\",\"plot_bgcolor\":\"#E5ECF6\",\"polar\":{\"bgcolor\":\"#E5ECF6\",\"angularaxis\":{\"gridcolor\":\"white\",\"linecolor\":\"white\",\"ticks\":\"\"},\"radialaxis\":{\"gridcolor\":\"white\",\"linecolor\":\"white\",\"ticks\":\"\"}},\"ternary\":{\"bgcolor\":\"#E5ECF6\",\"aaxis\":{\"gridcolor\":\"white\",\"linecolor\":\"white\",\"ticks\":\"\"},\"baxis\":{\"gridcolor\":\"white\",\"linecolor\":\"white\",\"ticks\":\"\"},\"caxis\":{\"gridcolor\":\"white\",\"linecolor\":\"white\",\"ticks\":\"\"}},\"coloraxis\":{\"colorbar\":{\"outlinewidth\":0,\"ticks\":\"\"}},\"colorscale\":{\"sequential\":[[0.0,\"#0d0887\"],[0.1111111111111111,\"#46039f\"],[0.2222222222222222,\"#7201a8\"],[0.3333333333333333,\"#9c179e\"],[0.4444444444444444,\"#bd3786\"],[0.5555555555555556,\"#d8576b\"],[0.6666666666666666,\"#ed7953\"],[0.7777777777777778,\"#fb9f3a\"],[0.8888888888888888,\"#fdca26\"],[1.0,\"#f0f921\"]],\"sequentialminus\":[[0.0,\"#0d0887\"],[0.1111111111111111,\"#46039f\"],[0.2222222222222222,\"#7201a8\"],[0.3333333333333333,\"#9c179e\"],[0.4444444444444444,\"#bd3786\"],[0.5555555555555556,\"#d8576b\"],[0.6666666666666666,\"#ed7953\"],[0.7777777777777778,\"#fb9f3a\"],[0.8888888888888888,\"#fdca26\"],[1.0,\"#f0f921\"]],\"diverging\":[[0,\"#8e0152\"],[0.1,\"#c51b7d\"],[0.2,\"#de77ae\"],[0.3,\"#f1b6da\"],[0.4,\"#fde0ef\"],[0.5,\"#f7f7f7\"],[0.6,\"#e6f5d0\"],[0.7,\"#b8e186\"],[0.8,\"#7fbc41\"],[0.9,\"#4d9221\"],[1,\"#276419\"]]},\"xaxis\":{\"gridcolor\":\"white\",\"linecolor\":\"white\",\"ticks\":\"\",\"title\":{\"standoff\":15},\"zerolinecolor\":\"white\",\"automargin\":true,\"zerolinewidth\":2},\"yaxis\":{\"gridcolor\":\"white\",\"linecolor\":\"white\",\"ticks\":\"\",\"title\":{\"standoff\":15},\"zerolinecolor\":\"white\",\"automargin\":true,\"zerolinewidth\":2},\"scene\":{\"xaxis\":{\"backgroundcolor\":\"#E5ECF6\",\"gridcolor\":\"white\",\"linecolor\":\"white\",\"showbackground\":true,\"ticks\":\"\",\"zerolinecolor\":\"white\",\"gridwidth\":2},\"yaxis\":{\"backgroundcolor\":\"#E5ECF6\",\"gridcolor\":\"white\",\"linecolor\":\"white\",\"showbackground\":true,\"ticks\":\"\",\"zerolinecolor\":\"white\",\"gridwidth\":2},\"zaxis\":{\"backgroundcolor\":\"#E5ECF6\",\"gridcolor\":\"white\",\"linecolor\":\"white\",\"showbackground\":true,\"ticks\":\"\",\"zerolinecolor\":\"white\",\"gridwidth\":2}},\"shapedefaults\":{\"line\":{\"color\":\"#2a3f5f\"}},\"annotationdefaults\":{\"arrowcolor\":\"#2a3f5f\",\"arrowhead\":0,\"arrowwidth\":1},\"geo\":{\"bgcolor\":\"white\",\"landcolor\":\"#E5ECF6\",\"subunitcolor\":\"white\",\"showland\":true,\"showlakes\":true,\"lakecolor\":\"white\"},\"title\":{\"x\":0.05},\"mapbox\":{\"style\":\"light\"}}},\"mapbox\":{\"domain\":{\"x\":[0.0,1.0],\"y\":[0.0,1.0]},\"center\":{\"lat\":37.336421955376345,\"lon\":-121.97119022580647},\"zoom\":8,\"style\":\"open-street-map\"},\"legend\":{\"tracegroupgap\":0,\"itemsizing\":\"constant\"},\"margin\":{\"t\":60}},                        {\"responsive\": true}                    ).then(function(){\n",
       "                            \n",
       "var gd = document.getElementById('c3dd9755-3bf4-4b8a-bc16-d19c7dfd2a48');\n",
       "var x = new MutationObserver(function (mutations, observer) {{\n",
       "        var display = window.getComputedStyle(gd).display;\n",
       "        if (!display || display === 'none') {{\n",
       "            console.log([gd, 'removed!']);\n",
       "            Plotly.purge(gd);\n",
       "            observer.disconnect();\n",
       "        }}\n",
       "}});\n",
       "\n",
       "// Listen for the removal of the full notebook cells\n",
       "var notebookContainer = gd.closest('#notebook-container');\n",
       "if (notebookContainer) {{\n",
       "    x.observe(notebookContainer, {childList: true});\n",
       "}}\n",
       "\n",
       "// Listen for the clearing of the current output cell\n",
       "var outputEl = gd.closest('.output');\n",
       "if (outputEl) {{\n",
       "    x.observe(outputEl, {childList: true});\n",
       "}}\n",
       "\n",
       "                        })                };                });            </script>        </div>"
      ]
     },
     "metadata": {},
     "output_type": "display_data"
    }
   ],
   "source": [
    "fig = px.scatter_mapbox(df_clean, lat='lat', lon='lng', size='howMany')\n",
    "fig.update_mapboxes(style='open-street-map')\n",
    "fig.show()"
   ]
  }
 ],
 "metadata": {
  "kernelspec": {
   "display_name": "Python 3 (ipykernel)",
   "language": "python",
   "name": "python3"
  },
  "language_info": {
   "codemirror_mode": {
    "name": "ipython",
    "version": 3
   },
   "file_extension": ".py",
   "mimetype": "text/x-python",
   "name": "python",
   "nbconvert_exporter": "python",
   "pygments_lexer": "ipython3",
   "version": "3.11.5"
  }
 },
 "nbformat": 4,
 "nbformat_minor": 5
}
