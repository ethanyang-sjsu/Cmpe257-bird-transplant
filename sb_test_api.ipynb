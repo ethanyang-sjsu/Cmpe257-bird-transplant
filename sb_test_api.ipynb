{
 "cells": [
  {
   "cell_type": "code",
   "execution_count": 49,
   "id": "2a19139d-c745-4d62-9813-4445bd4e32b8",
   "metadata": {},
   "outputs": [],
   "source": [
    "KEY_PATH = \"./ebird_api.key\"\n",
    "EBIRD_KEY = \"\"\n",
    "\n",
    "with open(KEY_PATH) as f:\n",
    "    EBIRD_KEY = f.read()\n",
    "_ = \"\"\"\n",
    "If you get an error (i.e. FileNotFoundError), that means you don't have the API\n",
    "key set up. You MUST request your own API key. It is intentionally excluded\n",
    "from the git repo (via gitignore).\n",
    "\"\"\""
   ]
  },
  {
   "cell_type": "code",
   "execution_count": 33,
   "id": "ea307ab8-46bf-49f3-8f67-9b951bf4d9e4",
   "metadata": {},
   "outputs": [],
   "source": [
    "import requests\n",
    "import pprint"
   ]
  },
  {
   "cell_type": "code",
   "execution_count": 43,
   "id": "f4d6699f-e21e-4fd3-a27c-605329632cc1",
   "metadata": {},
   "outputs": [],
   "source": [
    "url = \"https://api.ebird.org/v2/data/obs/US/recent/amecro?maxResults=10\"\n",
    "\n",
    "payload= {}\n",
    "headers = {\n",
    "    'X-eBirdApiToken': EBIRD_KEY\n",
    "}\n",
    "\n",
    "response = requests.request(\"GET\", url, headers=headers, data=payload)"
   ]
  },
  {
   "cell_type": "code",
   "execution_count": 44,
   "id": "1ace01ae-e97d-4d61-9300-a4120b53b65d",
   "metadata": {},
   "outputs": [
    {
     "name": "stdout",
     "output_type": "stream",
     "text": [
      "('[{\"speciesCode\":\"amecro\",\"comName\":\"American Crow\",\"sciName\":\"Corvus '\n",
      " 'brachyrhynchos\",\"locId\":\"L44694140\",\"locName\":\"Palm Ave\",\"obsDt\":\"2025-06-25 '\n",
      " '07:55\",\"howMany\":2,\"lat\":28.614797,\"lng\":-81.332735,\"obsValid\":true,\"obsReviewed\":false,\"locationPrivate\":true,\"subId\":\"S253935223\"},{\"speciesCode\":\"amecro\",\"comName\":\"American '\n",
      " 'Crow\",\"sciName\":\"Corvus '\n",
      " 'brachyrhynchos\",\"locId\":\"L40923751\",\"locName\":\"Private '\n",
      " 'Residence\",\"obsDt\":\"2025-06-25 '\n",
      " '07:46\",\"howMany\":3,\"lat\":28.789209,\"lng\":-82.024493,\"obsValid\":true,\"obsReviewed\":false,\"locationPrivate\":true,\"subId\":\"S253935668\"},{\"speciesCode\":\"amecro\",\"comName\":\"American '\n",
      " 'Crow\",\"sciName\":\"Corvus brachyrhynchos\",\"locId\":\"L2164250\",\"locName\":\"NIH '\n",
      " 'campus (restricted access; photo i.d. needed)\",\"obsDt\":\"2025-06-25 '\n",
      " '07:45\",\"howMany\":1,\"lat\":39.0013099,\"lng\":-77.0992613,\"obsValid\":true,\"obsReviewed\":false,\"locationPrivate\":false,\"subId\":\"S253933132\"},{\"speciesCode\":\"amecro\",\"comName\":\"American '\n",
      " 'Crow\",\"sciName\":\"Corvus brachyrhynchos\",\"locId\":\"L48423913\",\"locName\":\"Atlas '\n",
      " 'Point Count: 18TTL95: 41.09584, -77.39825\",\"obsDt\":\"2025-06-25 '\n",
      " '07:44\",\"howMany\":1,\"lat\":41.0958366,\"lng\":-77.3982544,\"obsValid\":true,\"obsReviewed\":false,\"locationPrivate\":true,\"subId\":\"S253933501\"},{\"speciesCode\":\"amecro\",\"comName\":\"American '\n",
      " 'Crow\",\"sciName\":\"Corvus '\n",
      " 'brachyrhynchos\",\"locId\":\"L32663879\",\"locName\":\"bhd\",\"obsDt\":\"2025-06-25 '\n",
      " '07:43\",\"howMany\":1,\"lat\":39.0584602,\"lng\":-77.0163727,\"obsValid\":true,\"obsReviewed\":false,\"locationPrivate\":true,\"subId\":\"S253934303\"},{\"speciesCode\":\"amecro\",\"comName\":\"American '\n",
      " 'Crow\",\"sciName\":\"Corvus '\n",
      " 'brachyrhynchos\",\"locId\":\"L2276230\",\"locName\":\"US-VT-Burke-558 Sugarhouse '\n",
      " 'Rd\",\"obsDt\":\"2025-06-25 '\n",
      " '07:40\",\"howMany\":2,\"lat\":44.630016,\"lng\":-71.951094,\"obsValid\":true,\"obsReviewed\":false,\"locationPrivate\":true,\"subId\":\"S253933764\"},{\"speciesCode\":\"amecro\",\"comName\":\"American '\n",
      " 'Crow\",\"sciName\":\"Corvus '\n",
      " 'brachyrhynchos\",\"locId\":\"L48423621\",\"locName\":\"57C56_1\",\"obsDt\":\"2025-06-25 '\n",
      " '07:39\",\"howMany\":1,\"lat\":40.655298,\"lng\":-80.048389,\"obsValid\":true,\"obsReviewed\":false,\"locationPrivate\":true,\"subId\":\"S253932069\"},{\"speciesCode\":\"amecro\",\"comName\":\"American '\n",
      " 'Crow\",\"sciName\":\"Corvus brachyrhynchos\",\"locId\":\"L17497923\",\"locName\":\"6421 '\n",
      " 'Vermont Hill Road, South Wales, New York, US (42.71, '\n",
      " '-78.541)\",\"obsDt\":\"2025-06-25 '\n",
      " '07:38\",\"howMany\":3,\"lat\":42.7096004,\"lng\":-78.5406931,\"obsValid\":true,\"obsReviewed\":false,\"locationPrivate\":true,\"subId\":\"S253930692\"},{\"speciesCode\":\"amecro\",\"comName\":\"American '\n",
      " 'Crow\",\"sciName\":\"Corvus '\n",
      " 'brachyrhynchos\",\"locId\":\"L48423704\",\"locName\":\"40475, Richmond US-KY '\n",
      " '37.71455, -84.29147\",\"obsDt\":\"2025-06-25 '\n",
      " '07:37\",\"howMany\":1,\"lat\":37.714546,\"lng\":-84.29147,\"obsValid\":true,\"obsReviewed\":false,\"locationPrivate\":true,\"subId\":\"S253932441\"},{\"speciesCode\":\"amecro\",\"comName\":\"American '\n",
      " 'Crow\",\"sciName\":\"Corvus '\n",
      " 'brachyrhynchos\",\"locId\":\"L35021216\",\"locName\":\"Gibson Hill '\n",
      " 'Road\",\"obsDt\":\"2025-06-25 '\n",
      " '07:35\",\"howMany\":2,\"lat\":41.2883461,\"lng\":-74.2678048,\"obsValid\":true,\"obsReviewed\":false,\"locationPrivate\":true,\"subId\":\"S253933961\"}]')\n"
     ]
    }
   ],
   "source": [
    "pprint.pp(response.text)"
   ]
  }
 ],
 "metadata": {
  "kernelspec": {
   "display_name": "Python 3 (ipykernel)",
   "language": "python",
   "name": "python3"
  },
  "language_info": {
   "codemirror_mode": {
    "name": "ipython",
    "version": 3
   },
   "file_extension": ".py",
   "mimetype": "text/x-python",
   "name": "python",
   "nbconvert_exporter": "python",
   "pygments_lexer": "ipython3",
   "version": "3.11.5"
  }
 },
 "nbformat": 4,
 "nbformat_minor": 5
}
